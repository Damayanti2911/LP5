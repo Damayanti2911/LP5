{
 "cells": [
  {
   "cell_type": "code",
   "execution_count": 305,
   "id": "5750b5ff",
   "metadata": {},
   "outputs": [],
   "source": [
    "from keras.datasets import fashion_mnist\n",
    "(X_train, Y_train),(X_test,Y_test)= fashion_mnist.load_data()"
   ]
  },
  {
   "cell_type": "code",
   "execution_count": 306,
   "id": "18b50516",
   "metadata": {},
   "outputs": [
    {
     "name": "stdout",
     "output_type": "stream",
     "text": [
      "(60000, 28, 28) (60000,)\n",
      "(10000, 28, 28) (10000,)\n"
     ]
    }
   ],
   "source": [
    "import numpy as np\n",
    "print(X_train.shape,Y_train.shape)\n",
    "\n",
    "print(X_test.shape,Y_test.shape)"
   ]
  },
  {
   "cell_type": "code",
   "execution_count": 307,
   "id": "e697f7df",
   "metadata": {},
   "outputs": [
    {
     "data": {
      "text/plain": [
       "array([0, 1, 2, 3, 4, 5, 6, 7, 8, 9], dtype=uint8)"
      ]
     },
     "execution_count": 307,
     "metadata": {},
     "output_type": "execute_result"
    }
   ],
   "source": [
    "classes=np.unique(Y_train)\n",
    "classes"
   ]
  },
  {
   "cell_type": "code",
   "execution_count": 308,
   "id": "d2922b46",
   "metadata": {},
   "outputs": [
    {
     "data": {
      "text/plain": [
       "Text(0.5, 1.0, 'Ground Truth: 9')"
      ]
     },
     "execution_count": 308,
     "metadata": {},
     "output_type": "execute_result"
    },
    {
     "data": {
      "image/png": "[encoded data removed]",
      "text/plain": [
       "<Figure size 720x720 with 2 Axes>"
      ]
     },
     "metadata": {
      "needs_background": "light"
     },
     "output_type": "display_data"
    }
   ],
   "source": [
    "plt.figure(figsize=(10,10))\n",
    "\n",
    "plt.subplot(121)\n",
    "plt.imshow(X_train[0,:,:], cmap=\"gray\")\n",
    "plt.title(\"Ground Truth: {}\".format(Y_train[0]))\n",
    "\n",
    "plt.subplot(122)\n",
    "plt.imshow(X_test[0,:,:], cmap=\"gray\")\n",
    "plt.title(\"Ground Truth: {}\".format(Y_test[0]))\n"
   ]
  },
  {
   "cell_type": "code",
   "execution_count": 309,
   "id": "b0e7aca4",
   "metadata": {},
   "outputs": [
    {
     "name": "stdout",
     "output_type": "stream",
     "text": [
      "(60000, 28, 28, 1) (10000, 28, 28, 1)\n"
     ]
    }
   ],
   "source": [
    "X_train=X_train.reshape(-1,28,28,1)\n",
    "X_test=X_test.reshape(-1,28,28,1)\n",
    "print(X_train.shape,X_test.shape)"
   ]
  },
  {
   "cell_type": "code",
   "execution_count": 310,
   "id": "205bb0f7",
   "metadata": {},
   "outputs": [],
   "source": [
    "X_train = X_train.astype('float32')\n",
    "X_test = X_test.astype('float32')\n",
    "X_train = X_train / 255.\n",
    "X_test = X_test / 255.\n"
   ]
  },
  {
   "cell_type": "code",
   "execution_count": 311,
   "id": "fb11073d",
   "metadata": {},
   "outputs": [
    {
     "name": "stdout",
     "output_type": "stream",
     "text": [
      "9 [0. 0. 0. 0. 0. 0. 0. 0. 0. 1.]\n"
     ]
    }
   ],
   "source": [
    "from keras.utils import to_categorical\n",
    "train_Y_one_hot = to_categorical(Y_train)\n",
    "test_Y_one_hot = to_categorical(Y_test)\n",
    "\n",
    "print(Y_train[0],test_Y_one_hot[0])"
   ]
  },
  {
   "cell_type": "code",
   "execution_count": 312,
   "id": "8da77cd5",
   "metadata": {},
   "outputs": [],
   "source": [
    "from sklearn.model_selection import train_test_split\n",
    "X_train, X_test, Y_train, Y_test = train_test_split(X_train, train_Y_one_hot, test_size=0.2, random_state=13)\n"
   ]
  },
  {
   "cell_type": "code",
   "execution_count": 313,
   "id": "172a6776",
   "metadata": {},
   "outputs": [
    {
     "data": {
      "text/plain": [
       "((48000, 28, 28, 1), (12000, 28, 28, 1), (48000, 10), (12000, 10))"
      ]
     },
     "execution_count": 313,
     "metadata": {},
     "output_type": "execute_result"
    }
   ],
   "source": [
    "X_train.shape,X_test.shape,Y_train.shape,Y_test.shape\n"
   ]
  },
  {
   "cell_type": "code",
   "execution_count": 314,
   "id": "7472e6d6",
   "metadata": {},
   "outputs": [],
   "source": [
    "import keras\n",
    "from keras.models import Sequential\n",
    "from keras.layers import Dense,Dropout,Flatten,Conv2D,MaxPooling2D,BatchNormalization,LeakyReLU\n"
   ]
  },
  {
   "cell_type": "code",
   "execution_count": 315,
   "id": "80d4c769",
   "metadata": {},
   "outputs": [],
   "source": [
    "num_classes=10\n",
    "epochs=2\n",
    "batch_size=64"
   ]
  },
  {
   "cell_type": "code",
   "execution_count": 316,
   "id": "b32ab070",
   "metadata": {},
   "outputs": [],
   "source": [
    "model=Sequential()\n",
    "model.add(Conv2D(32,kernel_size=(3,3), activation=\"linear\", input_shape=(28,28,1), padding=\"same\"))\n",
    "model.add(LeakyReLU(alpha=0.1))\n",
    "model.add(MaxPooling2D((2,2),padding=\"same\"))\n",
    "model.add(Conv2D(64,(3,3),activation=\"linear\", padding=\"same\"))\n",
    "model.add(LeakyReLU(alpha=0.1))\n",
    "model.add(MaxPooling2D(pool_size=(2,2),padding=\"same\"))\n",
    "model.add(Conv2D(128,(3,3),activation=\"linear\", padding=\"same\"))\n",
    "model.add(LeakyReLU(alpha=0.1))\n",
    "model.add(MaxPooling2D(pool_size=(2,2),padding=\"same\"))\n",
    "model.add(Flatten())\n",
    "model.add(Dense(128, activation=\"linear\"))\n",
    "model.add(LeakyReLU(alpha=0.1))\n",
    "model.add(Dense(num_classes, activation=\"softmax\"))\n"
   ]
  },
  {
   "cell_type": "code",
   "execution_count": 317,
   "id": "b18c64dd",
   "metadata": {},
   "outputs": [],
   "source": [
    "model.compile(loss=keras.losses.categorical_crossentropy , optimizer=keras.optimizers.Adam(), metrics=['Accuracy'])"
   ]
  },
  {
   "cell_type": "code",
   "execution_count": 319,
   "id": "10be422c",
   "metadata": {},
   "outputs": [
    {
     "name": "stdout",
     "output_type": "stream",
     "text": [
      "Epoch 1/2\n",
      "750/750 [==============================] - 41s 55ms/step - loss: 0.2697 - Accuracy: 0.9013 - val_loss: 0.2624 - val_Accuracy: 0.9072\n",
      "Epoch 2/2\n",
      "750/750 [==============================] - 45s 60ms/step - loss: 0.2294 - Accuracy: 0.9155 - val_loss: 0.2464 - val_Accuracy: 0.9097\n"
     ]
    }
   ],
   "source": [
    "fashion_model=model.fit(X_train,Y_train, epochs=epochs, batch_size=batch_size, verbose=1, validation_data=(X_test, Y_test))"
   ]
  },
  {
   "cell_type": "code",
   "execution_count": 322,
   "id": "b9f5059b",
   "metadata": {},
   "outputs": [],
   "source": [
    "test_eval=model.evaluate(X_test, Y_test, verbose=0)"
   ]
  },
  {
   "cell_type": "code",
   "execution_count": 323,
   "id": "69148f88",
   "metadata": {},
   "outputs": [
    {
     "name": "stdout",
     "output_type": "stream",
     "text": [
      "Test loss: 0.24638517200946808\n",
      "Test accuracy: 0.9096666574478149\n"
     ]
    }
   ],
   "source": [
    "print('Test loss:', test_eval[0])\n",
    "print('Test accuracy:', test_eval[1])\n"
   ]
  },
  {
   "cell_type": "code",
   "execution_count": 329,
   "id": "0497621c",
   "metadata": {},
   "outputs": [
    {
     "data": {
      "image/png": "[encoded data removed]",
      "text/plain": [
       "<Figure size 432x288 with 1 Axes>"
      ]
     },
     "metadata": {
      "needs_background": "light"
     },
     "output_type": "display_data"
    },
    {
     "data": {
      "image/png": "[encoded data removed]",
      "text/plain": [
       "<Figure size 432x288 with 1 Axes>"
      ]
     },
     "metadata": {
      "needs_background": "light"
     },
     "output_type": "display_data"
    }
   ],
   "source": [
    "accuracy = fashion_model.history['Accuracy']\n",
    "val_accuracy = fashion_model.history['val_Accuracy']\n",
    "loss = fashion_model.history['loss']\n",
    "val_loss = fashion_model.history['val_loss']\n",
    "epochs = range(len(accuracy))\n",
    "plt.plot(epochs, accuracy, 'bo', label='Training accuracy')\n",
    "plt.plot(epochs, val_accuracy, 'b', label='Validation accuracy')\n",
    "plt.title('Training and validation accuracy')\n",
    "plt.legend()\n",
    "plt.figure()\n",
    "plt.plot(epochs, loss, 'bo', label='Training loss')\n",
    "plt.plot(epochs, val_loss, 'b', label='Validation loss')\n",
    "plt.title('Training and validation loss')\n",
    "plt.legend()\n",
    "plt.show()"
   ]
  },
  {
   "cell_type": "code",
   "execution_count": 331,
   "id": "cbc1368a",
   "metadata": {
    "scrolled": true
   },
   "outputs": [
    {
     "name": "stdout",
     "output_type": "stream",
     "text": [
      "375/375 [==============================] - 5s 14ms/step\n"
     ]
    }
   ],
   "source": [
    "predicted_classes = model.predict(X_test)\n"
   ]
  },
  {
   "cell_type": "code",
   "execution_count": null,
   "id": "079fa047",
   "metadata": {},
   "outputs": [],
   "source": []
  }
 ],
 "metadata": {
  "kernelspec": {
   "display_name": "Python 3",
   "language": "python",
   "name": "python3"
  },
  "language_info": {
   "codemirror_mode": {
    "name": "ipython",
    "version": 3
   },
   "file_extension": ".py",
   "mimetype": "text/x-python",
   "name": "python",
   "nbconvert_exporter": "python",
   "pygments_lexer": "ipython3",
   "version": "3.8.8"
  }
 },
 "nbformat": 4,
 "nbformat_minor": 5
}
