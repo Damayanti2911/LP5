{
 "cells": [
  {
   "cell_type": "markdown",
   "metadata": {
    "id": "k4lzTZXLZtxY"
   },
   "source": [
    "1. Linear regression by using Deep Neural network: Implement Boston housing price prediction problem by Linear regression using Deep Neural network. Use Boston House price prediction dataset"
   ]
  },
  {
   "cell_type": "markdown",
   "metadata": {
    "id": "LhaP3ReZbTPA"
   },
   "source": [
    "Reference\n",
    "https://inside-machinelearning.com/en/how-to-do-linear-regression-with-keras/"
   ]
  },
  {
   "cell_type": "code",
   "execution_count": 55,
   "metadata": {
    "id": "YnWvclvR3bgb"
   },
   "outputs": [],
   "source": [
    "import pandas as pd\n",
    "import numpy as np\n",
    "from sklearn import metrics\n",
    "import matplotlib.pyplot as plt\n",
    "import seaborn as sns\n",
    "%matplotlib inline\n",
    "import pandas as pd"
   ]
  },
  {
   "cell_type": "code",
   "execution_count": 56,
   "metadata": {
    "colab": {
     "base_uri": "https://localhost:8080/",
     "height": 423
    },
    "id": "5VaNBMot3gTg",
    "outputId": "ad78b9d8-71b2-4496-8885-7d374bcd8458"
   },
   "outputs": [
    {
     "data": {
      "text/html": [
       "<div>\n",
       "<style scoped>\n",
       "    .dataframe tbody tr th:only-of-type {\n",
       "        vertical-align: middle;\n",
       "    }\n",
       "\n",
       "    .dataframe tbody tr th {\n",
       "        vertical-align: top;\n",
       "    }\n",
       "\n",
       "    .dataframe thead th {\n",
       "        text-align: right;\n",
       "    }\n",
       "</style>\n",
       "<table border=\"1\" class=\"dataframe\">\n",
       "  <thead>\n",
       "    <tr style=\"text-align: right;\">\n",
       "      <th></th>\n",
       "      <th>Unnamed: 0</th>\n",
       "      <th>crim</th>\n",
       "      <th>zn</th>\n",
       "      <th>indus</th>\n",
       "      <th>chas</th>\n",
       "      <th>nox</th>\n",
       "      <th>rm</th>\n",
       "      <th>age</th>\n",
       "      <th>dis</th>\n",
       "      <th>rad</th>\n",
       "      <th>tax</th>\n",
       "      <th>ptratio</th>\n",
       "      <th>black</th>\n",
       "      <th>lstat</th>\n",
       "      <th>medv</th>\n",
       "    </tr>\n",
       "  </thead>\n",
       "  <tbody>\n",
       "    <tr>\n",
       "      <th>0</th>\n",
       "      <td>1</td>\n",
       "      <td>0.00632</td>\n",
       "      <td>18.0</td>\n",
       "      <td>2.31</td>\n",
       "      <td>0</td>\n",
       "      <td>0.538</td>\n",
       "      <td>6.575</td>\n",
       "      <td>65.2</td>\n",
       "      <td>4.0900</td>\n",
       "      <td>1</td>\n",
       "      <td>296</td>\n",
       "      <td>15.3</td>\n",
       "      <td>396.90</td>\n",
       "      <td>4.98</td>\n",
       "      <td>24.0</td>\n",
       "    </tr>\n",
       "    <tr>\n",
       "      <th>1</th>\n",
       "      <td>2</td>\n",
       "      <td>0.02731</td>\n",
       "      <td>0.0</td>\n",
       "      <td>7.07</td>\n",
       "      <td>0</td>\n",
       "      <td>0.469</td>\n",
       "      <td>6.421</td>\n",
       "      <td>78.9</td>\n",
       "      <td>4.9671</td>\n",
       "      <td>2</td>\n",
       "      <td>242</td>\n",
       "      <td>17.8</td>\n",
       "      <td>396.90</td>\n",
       "      <td>9.14</td>\n",
       "      <td>21.6</td>\n",
       "    </tr>\n",
       "    <tr>\n",
       "      <th>2</th>\n",
       "      <td>3</td>\n",
       "      <td>0.02729</td>\n",
       "      <td>0.0</td>\n",
       "      <td>7.07</td>\n",
       "      <td>0</td>\n",
       "      <td>0.469</td>\n",
       "      <td>7.185</td>\n",
       "      <td>61.1</td>\n",
       "      <td>4.9671</td>\n",
       "      <td>2</td>\n",
       "      <td>242</td>\n",
       "      <td>17.8</td>\n",
       "      <td>392.83</td>\n",
       "      <td>4.03</td>\n",
       "      <td>34.7</td>\n",
       "    </tr>\n",
       "    <tr>\n",
       "      <th>3</th>\n",
       "      <td>4</td>\n",
       "      <td>0.03237</td>\n",
       "      <td>0.0</td>\n",
       "      <td>2.18</td>\n",
       "      <td>0</td>\n",
       "      <td>0.458</td>\n",
       "      <td>6.998</td>\n",
       "      <td>45.8</td>\n",
       "      <td>6.0622</td>\n",
       "      <td>3</td>\n",
       "      <td>222</td>\n",
       "      <td>18.7</td>\n",
       "      <td>394.63</td>\n",
       "      <td>2.94</td>\n",
       "      <td>33.4</td>\n",
       "    </tr>\n",
       "    <tr>\n",
       "      <th>4</th>\n",
       "      <td>5</td>\n",
       "      <td>0.06905</td>\n",
       "      <td>0.0</td>\n",
       "      <td>2.18</td>\n",
       "      <td>0</td>\n",
       "      <td>0.458</td>\n",
       "      <td>7.147</td>\n",
       "      <td>54.2</td>\n",
       "      <td>6.0622</td>\n",
       "      <td>3</td>\n",
       "      <td>222</td>\n",
       "      <td>18.7</td>\n",
       "      <td>396.90</td>\n",
       "      <td>5.33</td>\n",
       "      <td>36.2</td>\n",
       "    </tr>\n",
       "    <tr>\n",
       "      <th>...</th>\n",
       "      <td>...</td>\n",
       "      <td>...</td>\n",
       "      <td>...</td>\n",
       "      <td>...</td>\n",
       "      <td>...</td>\n",
       "      <td>...</td>\n",
       "      <td>...</td>\n",
       "      <td>...</td>\n",
       "      <td>...</td>\n",
       "      <td>...</td>\n",
       "      <td>...</td>\n",
       "      <td>...</td>\n",
       "      <td>...</td>\n",
       "      <td>...</td>\n",
       "      <td>...</td>\n",
       "    </tr>\n",
       "    <tr>\n",
       "      <th>501</th>\n",
       "      <td>502</td>\n",
       "      <td>0.06263</td>\n",
       "      <td>0.0</td>\n",
       "      <td>11.93</td>\n",
       "      <td>0</td>\n",
       "      <td>0.573</td>\n",
       "      <td>6.593</td>\n",
       "      <td>69.1</td>\n",
       "      <td>2.4786</td>\n",
       "      <td>1</td>\n",
       "      <td>273</td>\n",
       "      <td>21.0</td>\n",
       "      <td>391.99</td>\n",
       "      <td>9.67</td>\n",
       "      <td>22.4</td>\n",
       "    </tr>\n",
       "    <tr>\n",
       "      <th>502</th>\n",
       "      <td>503</td>\n",
       "      <td>0.04527</td>\n",
       "      <td>0.0</td>\n",
       "      <td>11.93</td>\n",
       "      <td>0</td>\n",
       "      <td>0.573</td>\n",
       "      <td>6.120</td>\n",
       "      <td>76.7</td>\n",
       "      <td>2.2875</td>\n",
       "      <td>1</td>\n",
       "      <td>273</td>\n",
       "      <td>21.0</td>\n",
       "      <td>396.90</td>\n",
       "      <td>9.08</td>\n",
       "      <td>20.6</td>\n",
       "    </tr>\n",
       "    <tr>\n",
       "      <th>503</th>\n",
       "      <td>504</td>\n",
       "      <td>0.06076</td>\n",
       "      <td>0.0</td>\n",
       "      <td>11.93</td>\n",
       "      <td>0</td>\n",
       "      <td>0.573</td>\n",
       "      <td>6.976</td>\n",
       "      <td>91.0</td>\n",
       "      <td>2.1675</td>\n",
       "      <td>1</td>\n",
       "      <td>273</td>\n",
       "      <td>21.0</td>\n",
       "      <td>396.90</td>\n",
       "      <td>5.64</td>\n",
       "      <td>23.9</td>\n",
       "    </tr>\n",
       "    <tr>\n",
       "      <th>504</th>\n",
       "      <td>505</td>\n",
       "      <td>0.10959</td>\n",
       "      <td>0.0</td>\n",
       "      <td>11.93</td>\n",
       "      <td>0</td>\n",
       "      <td>0.573</td>\n",
       "      <td>6.794</td>\n",
       "      <td>89.3</td>\n",
       "      <td>2.3889</td>\n",
       "      <td>1</td>\n",
       "      <td>273</td>\n",
       "      <td>21.0</td>\n",
       "      <td>393.45</td>\n",
       "      <td>6.48</td>\n",
       "      <td>22.0</td>\n",
       "    </tr>\n",
       "    <tr>\n",
       "      <th>505</th>\n",
       "      <td>506</td>\n",
       "      <td>0.04741</td>\n",
       "      <td>0.0</td>\n",
       "      <td>11.93</td>\n",
       "      <td>0</td>\n",
       "      <td>0.573</td>\n",
       "      <td>6.030</td>\n",
       "      <td>80.8</td>\n",
       "      <td>2.5050</td>\n",
       "      <td>1</td>\n",
       "      <td>273</td>\n",
       "      <td>21.0</td>\n",
       "      <td>396.90</td>\n",
       "      <td>7.88</td>\n",
       "      <td>11.9</td>\n",
       "    </tr>\n",
       "  </tbody>\n",
       "</table>\n",
       "<p>506 rows × 15 columns</p>\n",
       "</div>"
      ],
      "text/plain": [
       "     Unnamed: 0     crim    zn  indus  chas    nox     rm   age     dis  rad  \\\n",
       "0             1  0.00632  18.0   2.31     0  0.538  6.575  65.2  4.0900    1   \n",
       "1             2  0.02731   0.0   7.07     0  0.469  6.421  78.9  4.9671    2   \n",
       "2             3  0.02729   0.0   7.07     0  0.469  7.185  61.1  4.9671    2   \n",
       "3             4  0.03237   0.0   2.18     0  0.458  6.998  45.8  6.0622    3   \n",
       "4             5  0.06905   0.0   2.18     0  0.458  7.147  54.2  6.0622    3   \n",
       "..          ...      ...   ...    ...   ...    ...    ...   ...     ...  ...   \n",
       "501         502  0.06263   0.0  11.93     0  0.573  6.593  69.1  2.4786    1   \n",
       "502         503  0.04527   0.0  11.93     0  0.573  6.120  76.7  2.2875    1   \n",
       "503         504  0.06076   0.0  11.93     0  0.573  6.976  91.0  2.1675    1   \n",
       "504         505  0.10959   0.0  11.93     0  0.573  6.794  89.3  2.3889    1   \n",
       "505         506  0.04741   0.0  11.93     0  0.573  6.030  80.8  2.5050    1   \n",
       "\n",
       "     tax  ptratio   black  lstat  medv  \n",
       "0    296     15.3  396.90   4.98  24.0  \n",
       "1    242     17.8  396.90   9.14  21.6  \n",
       "2    242     17.8  392.83   4.03  34.7  \n",
       "3    222     18.7  394.63   2.94  33.4  \n",
       "4    222     18.7  396.90   5.33  36.2  \n",
       "..   ...      ...     ...    ...   ...  \n",
       "501  273     21.0  391.99   9.67  22.4  \n",
       "502  273     21.0  396.90   9.08  20.6  \n",
       "503  273     21.0  396.90   5.64  23.9  \n",
       "504  273     21.0  393.45   6.48  22.0  \n",
       "505  273     21.0  396.90   7.88  11.9  \n",
       "\n",
       "[506 rows x 15 columns]"
      ]
     },
     "execution_count": 56,
     "metadata": {},
     "output_type": "execute_result"
    }
   ],
   "source": [
    "data=pd.read_csv(\"Boston.csv\")\n",
    "data"
   ]
  },
  {
   "cell_type": "code",
   "execution_count": 57,
   "metadata": {},
   "outputs": [],
   "source": [
    "data.drop([\"Unnamed: 0\"],axis=1, inplace=True)"
   ]
  },
  {
   "cell_type": "code",
   "execution_count": 58,
   "metadata": {
    "colab": {
     "base_uri": "https://localhost:8080/"
    },
    "id": "WCyRqJhA3xky",
    "outputId": "308276d3-1801-4409-9c7c-35be89e93bde"
   },
   "outputs": [
    {
     "data": {
      "text/plain": [
       "crim       float64\n",
       "zn         float64\n",
       "indus      float64\n",
       "chas         int64\n",
       "nox        float64\n",
       "rm         float64\n",
       "age        float64\n",
       "dis        float64\n",
       "rad          int64\n",
       "tax          int64\n",
       "ptratio    float64\n",
       "black      float64\n",
       "lstat      float64\n",
       "medv       float64\n",
       "dtype: object"
      ]
     },
     "execution_count": 58,
     "metadata": {},
     "output_type": "execute_result"
    }
   ],
   "source": [
    "data.dtypes"
   ]
  },
  {
   "cell_type": "code",
   "execution_count": 59,
   "metadata": {
    "colab": {
     "base_uri": "https://localhost:8080/"
    },
    "id": "5W3QvLAM4ZbL",
    "outputId": "d3ebc35b-1b62-43fd-95a1-9c80bb1152b7"
   },
   "outputs": [
    {
     "data": {
      "text/plain": [
       "(14, 14)"
      ]
     },
     "execution_count": 59,
     "metadata": {},
     "output_type": "execute_result"
    }
   ],
   "source": [
    "# Finding out the correlation between the features\n",
    "corr = data.corr()\n",
    "corr.shape"
   ]
  },
  {
   "cell_type": "code",
   "execution_count": 60,
   "metadata": {
    "colab": {
     "base_uri": "https://localhost:8080/",
     "height": 1000
    },
    "id": "DVlRtwzjYVSj",
    "outputId": "db58ae13-d1e7-4841-bcc9-48a56b2b3a81"
   },
   "outputs": [
    {
     "data": {
      "text/plain": [
       "<AxesSubplot:>"
      ]
     },
     "execution_count": 60,
     "metadata": {},
     "output_type": "execute_result"
    },
    {
     "data": {
      "image/png": "[encoded data removed]",
      "text/plain": [
       "<Figure size 1440x1440 with 2 Axes>"
      ]
     },
     "metadata": {
      "needs_background": "light"
     },
     "output_type": "display_data"
    }
   ],
   "source": [
    "# Plotting the heatmap of correlation between features\n",
    "plt.figure(figsize=(20,20))\n",
    "sns.heatmap(corr, cbar=True, square= True, fmt='.1f', annot=True, annot_kws={'size':15}, cmap='gray')"
   ]
  },
  {
   "cell_type": "code",
   "execution_count": 61,
   "metadata": {},
   "outputs": [],
   "source": [
    "y = data['medv']"
   ]
  },
  {
   "cell_type": "code",
   "execution_count": 62,
   "metadata": {
    "id": "LH2Xlkg39DCd"
   },
   "outputs": [],
   "source": [
    "X =data.drop(['medv'], axis = 1,inplace=True) #iloc[:,:-1]\n"
   ]
  },
  {
   "cell_type": "code",
   "execution_count": 67,
   "metadata": {
    "colab": {
     "base_uri": "https://localhost:8080/",
     "height": 423
    },
    "id": "L3n5Zu814jct",
    "outputId": "c751a783-8cc1-456a-dca2-71d0acc47695"
   },
   "outputs": [
    {
     "data": {
      "text/html": [
       "<div>\n",
       "<style scoped>\n",
       "    .dataframe tbody tr th:only-of-type {\n",
       "        vertical-align: middle;\n",
       "    }\n",
       "\n",
       "    .dataframe tbody tr th {\n",
       "        vertical-align: top;\n",
       "    }\n",
       "\n",
       "    .dataframe thead th {\n",
       "        text-align: right;\n",
       "    }\n",
       "</style>\n",
       "<table border=\"1\" class=\"dataframe\">\n",
       "  <thead>\n",
       "    <tr style=\"text-align: right;\">\n",
       "      <th></th>\n",
       "      <th>crim</th>\n",
       "      <th>zn</th>\n",
       "      <th>indus</th>\n",
       "      <th>chas</th>\n",
       "      <th>nox</th>\n",
       "      <th>rm</th>\n",
       "      <th>age</th>\n",
       "      <th>dis</th>\n",
       "      <th>rad</th>\n",
       "      <th>tax</th>\n",
       "      <th>ptratio</th>\n",
       "      <th>black</th>\n",
       "      <th>lstat</th>\n",
       "    </tr>\n",
       "  </thead>\n",
       "  <tbody>\n",
       "    <tr>\n",
       "      <th>0</th>\n",
       "      <td>0.00632</td>\n",
       "      <td>18.0</td>\n",
       "      <td>2.31</td>\n",
       "      <td>0</td>\n",
       "      <td>0.538</td>\n",
       "      <td>6.575</td>\n",
       "      <td>65.2</td>\n",
       "      <td>4.0900</td>\n",
       "      <td>1</td>\n",
       "      <td>296</td>\n",
       "      <td>15.3</td>\n",
       "      <td>396.90</td>\n",
       "      <td>4.98</td>\n",
       "    </tr>\n",
       "    <tr>\n",
       "      <th>1</th>\n",
       "      <td>0.02731</td>\n",
       "      <td>0.0</td>\n",
       "      <td>7.07</td>\n",
       "      <td>0</td>\n",
       "      <td>0.469</td>\n",
       "      <td>6.421</td>\n",
       "      <td>78.9</td>\n",
       "      <td>4.9671</td>\n",
       "      <td>2</td>\n",
       "      <td>242</td>\n",
       "      <td>17.8</td>\n",
       "      <td>396.90</td>\n",
       "      <td>9.14</td>\n",
       "    </tr>\n",
       "    <tr>\n",
       "      <th>2</th>\n",
       "      <td>0.02729</td>\n",
       "      <td>0.0</td>\n",
       "      <td>7.07</td>\n",
       "      <td>0</td>\n",
       "      <td>0.469</td>\n",
       "      <td>7.185</td>\n",
       "      <td>61.1</td>\n",
       "      <td>4.9671</td>\n",
       "      <td>2</td>\n",
       "      <td>242</td>\n",
       "      <td>17.8</td>\n",
       "      <td>392.83</td>\n",
       "      <td>4.03</td>\n",
       "    </tr>\n",
       "    <tr>\n",
       "      <th>3</th>\n",
       "      <td>0.03237</td>\n",
       "      <td>0.0</td>\n",
       "      <td>2.18</td>\n",
       "      <td>0</td>\n",
       "      <td>0.458</td>\n",
       "      <td>6.998</td>\n",
       "      <td>45.8</td>\n",
       "      <td>6.0622</td>\n",
       "      <td>3</td>\n",
       "      <td>222</td>\n",
       "      <td>18.7</td>\n",
       "      <td>394.63</td>\n",
       "      <td>2.94</td>\n",
       "    </tr>\n",
       "    <tr>\n",
       "      <th>4</th>\n",
       "      <td>0.06905</td>\n",
       "      <td>0.0</td>\n",
       "      <td>2.18</td>\n",
       "      <td>0</td>\n",
       "      <td>0.458</td>\n",
       "      <td>7.147</td>\n",
       "      <td>54.2</td>\n",
       "      <td>6.0622</td>\n",
       "      <td>3</td>\n",
       "      <td>222</td>\n",
       "      <td>18.7</td>\n",
       "      <td>396.90</td>\n",
       "      <td>5.33</td>\n",
       "    </tr>\n",
       "    <tr>\n",
       "      <th>...</th>\n",
       "      <td>...</td>\n",
       "      <td>...</td>\n",
       "      <td>...</td>\n",
       "      <td>...</td>\n",
       "      <td>...</td>\n",
       "      <td>...</td>\n",
       "      <td>...</td>\n",
       "      <td>...</td>\n",
       "      <td>...</td>\n",
       "      <td>...</td>\n",
       "      <td>...</td>\n",
       "      <td>...</td>\n",
       "      <td>...</td>\n",
       "    </tr>\n",
       "    <tr>\n",
       "      <th>501</th>\n",
       "      <td>0.06263</td>\n",
       "      <td>0.0</td>\n",
       "      <td>11.93</td>\n",
       "      <td>0</td>\n",
       "      <td>0.573</td>\n",
       "      <td>6.593</td>\n",
       "      <td>69.1</td>\n",
       "      <td>2.4786</td>\n",
       "      <td>1</td>\n",
       "      <td>273</td>\n",
       "      <td>21.0</td>\n",
       "      <td>391.99</td>\n",
       "      <td>9.67</td>\n",
       "    </tr>\n",
       "    <tr>\n",
       "      <th>502</th>\n",
       "      <td>0.04527</td>\n",
       "      <td>0.0</td>\n",
       "      <td>11.93</td>\n",
       "      <td>0</td>\n",
       "      <td>0.573</td>\n",
       "      <td>6.120</td>\n",
       "      <td>76.7</td>\n",
       "      <td>2.2875</td>\n",
       "      <td>1</td>\n",
       "      <td>273</td>\n",
       "      <td>21.0</td>\n",
       "      <td>396.90</td>\n",
       "      <td>9.08</td>\n",
       "    </tr>\n",
       "    <tr>\n",
       "      <th>503</th>\n",
       "      <td>0.06076</td>\n",
       "      <td>0.0</td>\n",
       "      <td>11.93</td>\n",
       "      <td>0</td>\n",
       "      <td>0.573</td>\n",
       "      <td>6.976</td>\n",
       "      <td>91.0</td>\n",
       "      <td>2.1675</td>\n",
       "      <td>1</td>\n",
       "      <td>273</td>\n",
       "      <td>21.0</td>\n",
       "      <td>396.90</td>\n",
       "      <td>5.64</td>\n",
       "    </tr>\n",
       "    <tr>\n",
       "      <th>504</th>\n",
       "      <td>0.10959</td>\n",
       "      <td>0.0</td>\n",
       "      <td>11.93</td>\n",
       "      <td>0</td>\n",
       "      <td>0.573</td>\n",
       "      <td>6.794</td>\n",
       "      <td>89.3</td>\n",
       "      <td>2.3889</td>\n",
       "      <td>1</td>\n",
       "      <td>273</td>\n",
       "      <td>21.0</td>\n",
       "      <td>393.45</td>\n",
       "      <td>6.48</td>\n",
       "    </tr>\n",
       "    <tr>\n",
       "      <th>505</th>\n",
       "      <td>0.04741</td>\n",
       "      <td>0.0</td>\n",
       "      <td>11.93</td>\n",
       "      <td>0</td>\n",
       "      <td>0.573</td>\n",
       "      <td>6.030</td>\n",
       "      <td>80.8</td>\n",
       "      <td>2.5050</td>\n",
       "      <td>1</td>\n",
       "      <td>273</td>\n",
       "      <td>21.0</td>\n",
       "      <td>396.90</td>\n",
       "      <td>7.88</td>\n",
       "    </tr>\n",
       "  </tbody>\n",
       "</table>\n",
       "<p>506 rows × 13 columns</p>\n",
       "</div>"
      ],
      "text/plain": [
       "        crim    zn  indus  chas    nox     rm   age     dis  rad  tax  \\\n",
       "0    0.00632  18.0   2.31     0  0.538  6.575  65.2  4.0900    1  296   \n",
       "1    0.02731   0.0   7.07     0  0.469  6.421  78.9  4.9671    2  242   \n",
       "2    0.02729   0.0   7.07     0  0.469  7.185  61.1  4.9671    2  242   \n",
       "3    0.03237   0.0   2.18     0  0.458  6.998  45.8  6.0622    3  222   \n",
       "4    0.06905   0.0   2.18     0  0.458  7.147  54.2  6.0622    3  222   \n",
       "..       ...   ...    ...   ...    ...    ...   ...     ...  ...  ...   \n",
       "501  0.06263   0.0  11.93     0  0.573  6.593  69.1  2.4786    1  273   \n",
       "502  0.04527   0.0  11.93     0  0.573  6.120  76.7  2.2875    1  273   \n",
       "503  0.06076   0.0  11.93     0  0.573  6.976  91.0  2.1675    1  273   \n",
       "504  0.10959   0.0  11.93     0  0.573  6.794  89.3  2.3889    1  273   \n",
       "505  0.04741   0.0  11.93     0  0.573  6.030  80.8  2.5050    1  273   \n",
       "\n",
       "     ptratio   black  lstat  \n",
       "0       15.3  396.90   4.98  \n",
       "1       17.8  396.90   9.14  \n",
       "2       17.8  392.83   4.03  \n",
       "3       18.7  394.63   2.94  \n",
       "4       18.7  396.90   5.33  \n",
       "..       ...     ...    ...  \n",
       "501     21.0  391.99   9.67  \n",
       "502     21.0  396.90   9.08  \n",
       "503     21.0  396.90   5.64  \n",
       "504     21.0  393.45   6.48  \n",
       "505     21.0  396.90   7.88  \n",
       "\n",
       "[506 rows x 13 columns]"
      ]
     },
     "execution_count": 67,
     "metadata": {},
     "output_type": "execute_result"
    }
   ],
   "source": [
    "X=data\n",
    "X"
   ]
  },
  {
   "cell_type": "code",
   "execution_count": 68,
   "metadata": {
    "colab": {
     "base_uri": "https://localhost:8080/"
    },
    "id": "M-I3VI6k4lXx",
    "outputId": "4af849d1-edd8-47a9-9665-0f5c6c04b7a1"
   },
   "outputs": [
    {
     "data": {
      "text/plain": [
       "0      24.0\n",
       "1      21.6\n",
       "2      34.7\n",
       "3      33.4\n",
       "4      36.2\n",
       "       ... \n",
       "501    22.4\n",
       "502    20.6\n",
       "503    23.9\n",
       "504    22.0\n",
       "505    11.9\n",
       "Name: medv, Length: 506, dtype: float64"
      ]
     },
     "execution_count": 68,
     "metadata": {},
     "output_type": "execute_result"
    }
   ],
   "source": [
    "y"
   ]
  },
  {
   "cell_type": "code",
   "execution_count": 69,
   "metadata": {
    "colab": {
     "base_uri": "https://localhost:8080/"
    },
    "id": "SwNighhPK8Nk",
    "outputId": "80aa6513-731a-475c-f0a7-ed352ceda9ef"
   },
   "outputs": [
    {
     "data": {
      "text/plain": [
       "count    506.000000\n",
       "mean      22.532806\n",
       "std        9.197104\n",
       "min        5.000000\n",
       "25%       17.025000\n",
       "50%       21.200000\n",
       "75%       25.000000\n",
       "max       50.000000\n",
       "Name: medv, dtype: float64"
      ]
     },
     "execution_count": 69,
     "metadata": {},
     "output_type": "execute_result"
    }
   ],
   "source": [
    "y.describe()"
   ]
  },
  {
   "cell_type": "code",
   "execution_count": 70,
   "metadata": {
    "id": "RSKfjIU65U9z"
   },
   "outputs": [],
   "source": [
    "from sklearn.model_selection import train_test_split\n",
    "X_train, X_test, y_train, y_test = train_test_split(X,y, test_size = 0.3, random_state = 4)"
   ]
  },
  {
   "cell_type": "code",
   "execution_count": 71,
   "metadata": {
    "id": "Mi1yV5s2SyLk"
   },
   "outputs": [],
   "source": [
    "from sklearn.preprocessing import MinMaxScaler\n",
    "# Instantiate the scaler and fit to training dataset, X_train\n",
    "scaler = MinMaxScaler()\n",
    "scaler.fit(X_train)\n",
    "\n",
    "# Replace unscaled values with scaled values\n",
    "X_train = scaler.transform(X_train)\n",
    "X_test = scaler.transform(X_test)"
   ]
  },
  {
   "cell_type": "code",
   "execution_count": 72,
   "metadata": {
    "id": "iVDjodrV41Nv"
   },
   "outputs": [],
   "source": [
    "from tensorflow.keras.models import Sequential\n",
    "from tensorflow.keras.layers import Dense\n",
    "from tensorflow.keras.layers import Dropout"
   ]
  },
  {
   "cell_type": "code",
   "execution_count": 73,
   "metadata": {
    "id": "Hci9V1bK5BE_"
   },
   "outputs": [],
   "source": [
    "model = Sequential()\n",
    "model.add(Dense(64, input_dim =13, activation = 'relu'))\n",
    "model.add(Dropout(0.15))\n",
    "model.add(Dense(64, activation = 'relu'))\n",
    "model.add(Dropout(0.2))\n",
    "model.add(Dense(40, activation = 'relu'))\n",
    "model.add(Dropout(0.15))\n",
    "model.add(Dense(54, activation = 'relu'))\n",
    "model.add(Dropout(0.18))\n",
    "model.add(Dense(1))"
   ]
  },
  {
   "cell_type": "code",
   "execution_count": 74,
   "metadata": {
    "id": "977kOPGV5NwX"
   },
   "outputs": [],
   "source": [
    "model.compile(optimizer = 'adam', loss = 'mean_squared_error', metrics = ['mse', 'mae'])"
   ]
  },
  {
   "cell_type": "code",
   "execution_count": 75,
   "metadata": {
    "colab": {
     "base_uri": "https://localhost:8080/"
    },
    "id": "dkfNQ7re5RwD",
    "outputId": "610606be-83f7-4826-c343-7d9a8d4c91fb"
   },
   "outputs": [
    {
     "name": "stdout",
     "output_type": "stream",
     "text": [
      "Epoch 1/200\n",
      "9/9 [==============================] - 3s 85ms/step - loss: 553.6369 - mse: 553.6369 - mae: 21.8945 - val_loss: 570.6288 - val_mse: 570.6288 - val_mae: 22.1529\n",
      "Epoch 2/200\n",
      "9/9 [==============================] - 0s 13ms/step - loss: 526.1669 - mse: 526.1669 - mae: 21.2400 - val_loss: 531.2755 - val_mse: 531.2755 - val_mae: 21.2421\n",
      "Epoch 3/200\n",
      "9/9 [==============================] - 0s 14ms/step - loss: 469.4230 - mse: 469.4230 - mae: 19.8169 - val_loss: 439.6802 - val_mse: 439.6802 - val_mae: 18.9377\n",
      "Epoch 4/200\n",
      "9/9 [==============================] - 0s 12ms/step - loss: 343.6676 - mse: 343.6676 - mae: 16.2650 - val_loss: 262.7037 - val_mse: 262.7037 - val_mae: 13.6042\n",
      "Epoch 5/200\n",
      "9/9 [==============================] - 0s 13ms/step - loss: 165.7092 - mse: 165.7092 - mae: 10.0640 - val_loss: 100.0230 - val_mse: 100.0230 - val_mae: 7.3939\n",
      "Epoch 6/200\n",
      "9/9 [==============================] - 0s 13ms/step - loss: 132.3277 - mse: 132.3277 - mae: 8.9023 - val_loss: 90.9523 - val_mse: 90.9523 - val_mae: 7.0510\n",
      "Epoch 7/200\n",
      "9/9 [==============================] - 0s 13ms/step - loss: 102.4737 - mse: 102.4737 - mae: 7.7098 - val_loss: 95.4633 - val_mse: 95.4633 - val_mae: 7.0176\n",
      "Epoch 8/200\n",
      "9/9 [==============================] - 0s 13ms/step - loss: 104.2898 - mse: 104.2898 - mae: 7.7008 - val_loss: 80.7664 - val_mse: 80.7664 - val_mae: 6.1657\n",
      "Epoch 9/200\n",
      "9/9 [==============================] - 0s 13ms/step - loss: 80.2534 - mse: 80.2534 - mae: 6.6019 - val_loss: 67.3927 - val_mse: 67.3927 - val_mae: 5.6909\n",
      "Epoch 10/200\n",
      "9/9 [==============================] - 0s 14ms/step - loss: 75.8294 - mse: 75.8294 - mae: 6.7713 - val_loss: 64.7380 - val_mse: 64.7380 - val_mae: 5.4075\n",
      "Epoch 11/200\n",
      "9/9 [==============================] - 0s 13ms/step - loss: 67.0883 - mse: 67.0883 - mae: 6.3185 - val_loss: 64.8938 - val_mse: 64.8938 - val_mae: 5.1968\n",
      "Epoch 12/200\n",
      "9/9 [==============================] - 0s 15ms/step - loss: 68.9605 - mse: 68.9605 - mae: 6.2617 - val_loss: 60.3644 - val_mse: 60.3644 - val_mae: 4.9985\n",
      "Epoch 13/200\n",
      "9/9 [==============================] - 0s 13ms/step - loss: 57.0258 - mse: 57.0258 - mae: 5.6521 - val_loss: 60.4810 - val_mse: 60.4810 - val_mae: 4.8499\n",
      "Epoch 14/200\n",
      "9/9 [==============================] - 0s 13ms/step - loss: 59.0037 - mse: 59.0037 - mae: 5.7700 - val_loss: 57.0218 - val_mse: 57.0218 - val_mae: 4.8626\n",
      "Epoch 15/200\n",
      "9/9 [==============================] - 0s 13ms/step - loss: 57.2779 - mse: 57.2779 - mae: 5.5795 - val_loss: 58.9590 - val_mse: 58.9590 - val_mae: 4.6782\n",
      "Epoch 16/200\n",
      "9/9 [==============================] - 0s 13ms/step - loss: 54.2072 - mse: 54.2072 - mae: 5.5215 - val_loss: 53.5503 - val_mse: 53.5503 - val_mae: 4.6861\n",
      "Epoch 17/200\n",
      "9/9 [==============================] - 0s 15ms/step - loss: 53.8150 - mse: 53.8150 - mae: 5.4534 - val_loss: 51.6947 - val_mse: 51.6947 - val_mae: 4.5704\n",
      "Epoch 18/200\n",
      "9/9 [==============================] - 0s 17ms/step - loss: 51.7256 - mse: 51.7256 - mae: 5.3808 - val_loss: 50.3806 - val_mse: 50.3806 - val_mae: 4.4608\n",
      "Epoch 19/200\n",
      "9/9 [==============================] - 0s 15ms/step - loss: 48.6546 - mse: 48.6546 - mae: 5.2827 - val_loss: 47.3560 - val_mse: 47.3560 - val_mae: 4.4819\n",
      "Epoch 20/200\n",
      "9/9 [==============================] - 0s 14ms/step - loss: 41.6611 - mse: 41.6611 - mae: 4.9705 - val_loss: 46.0032 - val_mse: 46.0032 - val_mae: 4.3117\n",
      "Epoch 21/200\n",
      "9/9 [==============================] - 0s 14ms/step - loss: 42.9346 - mse: 42.9346 - mae: 4.8911 - val_loss: 44.6591 - val_mse: 44.6591 - val_mae: 4.1319\n",
      "Epoch 22/200\n",
      "9/9 [==============================] - 0s 14ms/step - loss: 39.7194 - mse: 39.7194 - mae: 4.7640 - val_loss: 43.7281 - val_mse: 43.7281 - val_mae: 3.9902\n",
      "Epoch 23/200\n",
      "9/9 [==============================] - 0s 15ms/step - loss: 37.4856 - mse: 37.4856 - mae: 4.8295 - val_loss: 40.7349 - val_mse: 40.7349 - val_mae: 3.9893\n",
      "Epoch 24/200\n",
      "9/9 [==============================] - 0s 14ms/step - loss: 39.2549 - mse: 39.2549 - mae: 4.7560 - val_loss: 39.5875 - val_mse: 39.5875 - val_mae: 3.9029\n",
      "Epoch 25/200\n",
      "9/9 [==============================] - 0s 14ms/step - loss: 36.0751 - mse: 36.0751 - mae: 4.5449 - val_loss: 39.4715 - val_mse: 39.4715 - val_mae: 3.7754\n",
      "Epoch 26/200\n",
      "9/9 [==============================] - 0s 13ms/step - loss: 32.5827 - mse: 32.5827 - mae: 4.3055 - val_loss: 36.1583 - val_mse: 36.1583 - val_mae: 3.6633\n",
      "Epoch 27/200\n",
      "9/9 [==============================] - 0s 15ms/step - loss: 37.8631 - mse: 37.8631 - mae: 4.5919 - val_loss: 33.2111 - val_mse: 33.2111 - val_mae: 3.5683\n",
      "Epoch 28/200\n",
      "9/9 [==============================] - 0s 15ms/step - loss: 32.8184 - mse: 32.8184 - mae: 4.3040 - val_loss: 36.2101 - val_mse: 36.2101 - val_mae: 3.5623\n",
      "Epoch 29/200\n",
      "9/9 [==============================] - 0s 17ms/step - loss: 33.8516 - mse: 33.8516 - mae: 4.3188 - val_loss: 30.8976 - val_mse: 30.8976 - val_mae: 3.4481\n",
      "Epoch 30/200\n",
      "9/9 [==============================] - 0s 15ms/step - loss: 35.5452 - mse: 35.5452 - mae: 4.5089 - val_loss: 34.6918 - val_mse: 34.6918 - val_mae: 3.4843\n",
      "Epoch 31/200\n",
      "9/9 [==============================] - 0s 16ms/step - loss: 32.8788 - mse: 32.8788 - mae: 4.2677 - val_loss: 30.5754 - val_mse: 30.5754 - val_mae: 3.3908\n",
      "Epoch 32/200\n",
      "9/9 [==============================] - 0s 13ms/step - loss: 31.4098 - mse: 31.4098 - mae: 4.1004 - val_loss: 33.4775 - val_mse: 33.4775 - val_mae: 3.4019\n",
      "Epoch 33/200\n",
      "9/9 [==============================] - 0s 13ms/step - loss: 32.9218 - mse: 32.9218 - mae: 4.2556 - val_loss: 29.3646 - val_mse: 29.3646 - val_mae: 3.3141\n",
      "Epoch 34/200\n",
      "9/9 [==============================] - 0s 13ms/step - loss: 34.8245 - mse: 34.8245 - mae: 4.3273 - val_loss: 32.8179 - val_mse: 32.8179 - val_mae: 3.4000\n",
      "Epoch 35/200\n",
      "9/9 [==============================] - 0s 13ms/step - loss: 31.7907 - mse: 31.7907 - mae: 4.4498 - val_loss: 30.8077 - val_mse: 30.8077 - val_mae: 3.3218\n",
      "Epoch 36/200\n",
      "9/9 [==============================] - 0s 13ms/step - loss: 27.3192 - mse: 27.3192 - mae: 3.8604 - val_loss: 28.9914 - val_mse: 28.9914 - val_mae: 3.4127\n",
      "Epoch 37/200\n",
      "9/9 [==============================] - 0s 13ms/step - loss: 30.7353 - mse: 30.7353 - mae: 4.1602 - val_loss: 31.5389 - val_mse: 31.5389 - val_mae: 3.3494\n",
      "Epoch 38/200\n",
      "9/9 [==============================] - 0s 17ms/step - loss: 28.2476 - mse: 28.2476 - mae: 3.9599 - val_loss: 28.4514 - val_mse: 28.4514 - val_mae: 3.2634\n",
      "Epoch 39/200\n",
      "9/9 [==============================] - 0s 15ms/step - loss: 28.7157 - mse: 28.7157 - mae: 3.9557 - val_loss: 28.3576 - val_mse: 28.3576 - val_mae: 3.2823\n",
      "Epoch 40/200\n",
      "9/9 [==============================] - 0s 15ms/step - loss: 27.6737 - mse: 27.6737 - mae: 3.9984 - val_loss: 28.3123 - val_mse: 28.3123 - val_mae: 3.3209\n",
      "Epoch 41/200\n",
      "9/9 [==============================] - 0s 12ms/step - loss: 25.2960 - mse: 25.2960 - mae: 3.7724 - val_loss: 29.0771 - val_mse: 29.0771 - val_mae: 3.2977\n",
      "Epoch 42/200\n",
      "9/9 [==============================] - 0s 13ms/step - loss: 27.7437 - mse: 27.7437 - mae: 3.8893 - val_loss: 26.8233 - val_mse: 26.8233 - val_mae: 3.2849\n",
      "Epoch 43/200\n",
      "9/9 [==============================] - 0s 13ms/step - loss: 27.6934 - mse: 27.6934 - mae: 4.0036 - val_loss: 29.4024 - val_mse: 29.4024 - val_mae: 3.2829\n",
      "Epoch 44/200\n",
      "9/9 [==============================] - 0s 14ms/step - loss: 26.2226 - mse: 26.2226 - mae: 3.9127 - val_loss: 25.7725 - val_mse: 25.7725 - val_mae: 3.1893\n",
      "Epoch 45/200\n",
      "9/9 [==============================] - 0s 12ms/step - loss: 29.4830 - mse: 29.4830 - mae: 4.1616 - val_loss: 27.6738 - val_mse: 27.6738 - val_mae: 3.2065\n",
      "Epoch 46/200\n",
      "9/9 [==============================] - 0s 14ms/step - loss: 25.9438 - mse: 25.9438 - mae: 3.7375 - val_loss: 26.9425 - val_mse: 26.9425 - val_mae: 3.1825\n",
      "Epoch 47/200\n",
      "9/9 [==============================] - 0s 13ms/step - loss: 28.0426 - mse: 28.0426 - mae: 3.9009 - val_loss: 27.5536 - val_mse: 27.5536 - val_mae: 3.2124\n",
      "Epoch 48/200\n",
      "9/9 [==============================] - 0s 13ms/step - loss: 22.7543 - mse: 22.7543 - mae: 3.5651 - val_loss: 25.5112 - val_mse: 25.5112 - val_mae: 3.1943\n",
      "Epoch 49/200\n",
      "9/9 [==============================] - 0s 13ms/step - loss: 29.8899 - mse: 29.8899 - mae: 4.0403 - val_loss: 28.7169 - val_mse: 28.7169 - val_mae: 3.2812\n"
     ]
    },
    {
     "name": "stdout",
     "output_type": "stream",
     "text": [
      "Epoch 50/200\n",
      "9/9 [==============================] - 0s 14ms/step - loss: 26.3884 - mse: 26.3884 - mae: 3.8492 - val_loss: 25.1309 - val_mse: 25.1309 - val_mae: 3.1685\n",
      "Epoch 51/200\n",
      "9/9 [==============================] - 0s 13ms/step - loss: 25.3507 - mse: 25.3507 - mae: 3.7403 - val_loss: 30.8951 - val_mse: 30.8951 - val_mae: 3.3723\n",
      "Epoch 52/200\n",
      "9/9 [==============================] - 0s 13ms/step - loss: 23.1303 - mse: 23.1303 - mae: 3.5515 - val_loss: 25.3434 - val_mse: 25.3434 - val_mae: 3.1628\n",
      "Epoch 53/200\n",
      "9/9 [==============================] - 0s 14ms/step - loss: 29.4174 - mse: 29.4174 - mae: 4.0028 - val_loss: 35.9193 - val_mse: 35.9193 - val_mae: 3.8148\n",
      "Epoch 54/200\n",
      "9/9 [==============================] - 0s 14ms/step - loss: 28.6524 - mse: 28.6524 - mae: 4.0297 - val_loss: 24.2159 - val_mse: 24.2159 - val_mae: 3.2451\n",
      "Epoch 55/200\n",
      "9/9 [==============================] - 0s 17ms/step - loss: 25.7277 - mse: 25.7277 - mae: 3.8863 - val_loss: 27.8931 - val_mse: 27.8931 - val_mae: 3.1670\n",
      "Epoch 56/200\n",
      "9/9 [==============================] - 0s 16ms/step - loss: 24.3441 - mse: 24.3441 - mae: 3.7124 - val_loss: 24.5341 - val_mse: 24.5341 - val_mae: 3.2023\n",
      "Epoch 57/200\n",
      "9/9 [==============================] - 0s 16ms/step - loss: 24.5828 - mse: 24.5828 - mae: 3.7598 - val_loss: 27.5682 - val_mse: 27.5682 - val_mae: 3.1704\n",
      "Epoch 58/200\n",
      "9/9 [==============================] - 0s 17ms/step - loss: 24.4443 - mse: 24.4443 - mae: 3.6099 - val_loss: 25.5178 - val_mse: 25.5178 - val_mae: 3.1325\n",
      "Epoch 59/200\n",
      "9/9 [==============================] - 0s 15ms/step - loss: 27.2852 - mse: 27.2852 - mae: 3.7658 - val_loss: 24.8037 - val_mse: 24.8037 - val_mae: 3.0548\n",
      "Epoch 60/200\n",
      "9/9 [==============================] - 0s 13ms/step - loss: 30.1137 - mse: 30.1137 - mae: 3.9996 - val_loss: 24.1672 - val_mse: 24.1672 - val_mae: 2.9990\n",
      "Epoch 61/200\n",
      "9/9 [==============================] - 0s 13ms/step - loss: 24.4931 - mse: 24.4931 - mae: 3.7083 - val_loss: 24.3210 - val_mse: 24.3210 - val_mae: 2.9896\n",
      "Epoch 62/200\n",
      "9/9 [==============================] - 0s 14ms/step - loss: 22.3787 - mse: 22.3787 - mae: 3.5108 - val_loss: 23.6893 - val_mse: 23.6893 - val_mae: 2.9910\n",
      "Epoch 63/200\n",
      "9/9 [==============================] - 0s 15ms/step - loss: 25.3758 - mse: 25.3758 - mae: 3.6612 - val_loss: 23.2503 - val_mse: 23.2503 - val_mae: 2.9976\n",
      "Epoch 64/200\n",
      "9/9 [==============================] - 0s 13ms/step - loss: 26.7554 - mse: 26.7554 - mae: 3.8576 - val_loss: 24.2848 - val_mse: 24.2848 - val_mae: 3.0175\n",
      "Epoch 65/200\n",
      "9/9 [==============================] - 0s 14ms/step - loss: 21.0733 - mse: 21.0733 - mae: 3.5776 - val_loss: 23.0265 - val_mse: 23.0265 - val_mae: 2.9702\n",
      "Epoch 66/200\n",
      "9/9 [==============================] - 0s 14ms/step - loss: 20.4256 - mse: 20.4256 - mae: 3.3704 - val_loss: 21.4913 - val_mse: 21.4913 - val_mae: 2.9556\n",
      "Epoch 67/200\n",
      "9/9 [==============================] - 0s 12ms/step - loss: 18.9184 - mse: 18.9184 - mae: 3.3995 - val_loss: 22.9409 - val_mse: 22.9409 - val_mae: 2.9552\n",
      "Epoch 68/200\n",
      "9/9 [==============================] - 0s 14ms/step - loss: 19.8417 - mse: 19.8417 - mae: 3.4220 - val_loss: 23.3440 - val_mse: 23.3440 - val_mae: 2.9867\n",
      "Epoch 69/200\n",
      "9/9 [==============================] - 0s 13ms/step - loss: 20.1460 - mse: 20.1460 - mae: 3.4070 - val_loss: 22.2858 - val_mse: 22.2858 - val_mae: 2.9387\n",
      "Epoch 70/200\n",
      "9/9 [==============================] - 0s 13ms/step - loss: 23.7559 - mse: 23.7559 - mae: 3.6099 - val_loss: 22.7034 - val_mse: 22.7034 - val_mae: 2.9440\n",
      "Epoch 71/200\n",
      "9/9 [==============================] - 0s 14ms/step - loss: 20.4841 - mse: 20.4841 - mae: 3.3473 - val_loss: 23.4693 - val_mse: 23.4693 - val_mae: 2.9509\n",
      "Epoch 72/200\n",
      "9/9 [==============================] - 0s 13ms/step - loss: 23.7520 - mse: 23.7520 - mae: 3.4897 - val_loss: 21.0185 - val_mse: 21.0185 - val_mae: 2.8883\n",
      "Epoch 73/200\n",
      "9/9 [==============================] - 0s 14ms/step - loss: 20.8418 - mse: 20.8418 - mae: 3.4766 - val_loss: 22.1980 - val_mse: 22.1980 - val_mae: 2.9143\n",
      "Epoch 74/200\n",
      "9/9 [==============================] - 0s 14ms/step - loss: 23.1701 - mse: 23.1701 - mae: 3.5528 - val_loss: 20.3851 - val_mse: 20.3851 - val_mae: 2.8209\n",
      "Epoch 75/200\n",
      "9/9 [==============================] - 0s 15ms/step - loss: 21.9542 - mse: 21.9542 - mae: 3.4979 - val_loss: 21.7951 - val_mse: 21.7951 - val_mae: 2.8786\n",
      "Epoch 76/200\n",
      "9/9 [==============================] - 0s 14ms/step - loss: 20.9741 - mse: 20.9741 - mae: 3.5239 - val_loss: 20.5501 - val_mse: 20.5501 - val_mae: 2.8220\n",
      "Epoch 77/200\n",
      "9/9 [==============================] - 0s 17ms/step - loss: 23.8048 - mse: 23.8048 - mae: 3.5834 - val_loss: 21.3665 - val_mse: 21.3665 - val_mae: 2.8580\n",
      "Epoch 78/200\n",
      "9/9 [==============================] - 0s 14ms/step - loss: 21.6511 - mse: 21.6511 - mae: 3.5242 - val_loss: 21.9940 - val_mse: 21.9940 - val_mae: 2.8678\n",
      "Epoch 79/200\n",
      "9/9 [==============================] - 0s 13ms/step - loss: 18.2208 - mse: 18.2208 - mae: 3.0661 - val_loss: 19.8290 - val_mse: 19.8290 - val_mae: 2.7826\n",
      "Epoch 80/200\n",
      "9/9 [==============================] - 0s 13ms/step - loss: 19.8508 - mse: 19.8508 - mae: 3.4420 - val_loss: 22.6946 - val_mse: 22.6946 - val_mae: 3.0130\n",
      "Epoch 81/200\n",
      "9/9 [==============================] - 0s 13ms/step - loss: 23.3611 - mse: 23.3611 - mae: 3.5986 - val_loss: 18.7140 - val_mse: 18.7140 - val_mae: 2.7909\n",
      "Epoch 82/200\n",
      "9/9 [==============================] - 0s 14ms/step - loss: 21.3871 - mse: 21.3871 - mae: 3.5337 - val_loss: 23.4364 - val_mse: 23.4364 - val_mae: 3.0067\n",
      "Epoch 83/200\n",
      "9/9 [==============================] - 0s 16ms/step - loss: 20.2297 - mse: 20.2297 - mae: 3.4329 - val_loss: 19.1845 - val_mse: 19.1845 - val_mae: 2.7815\n",
      "Epoch 84/200\n",
      "9/9 [==============================] - 0s 15ms/step - loss: 21.9170 - mse: 21.9170 - mae: 3.5700 - val_loss: 20.2252 - val_mse: 20.2252 - val_mae: 2.8230\n",
      "Epoch 85/200\n",
      "9/9 [==============================] - 0s 15ms/step - loss: 24.4435 - mse: 24.4435 - mae: 3.5801 - val_loss: 19.8429 - val_mse: 19.8429 - val_mae: 2.7666\n",
      "Epoch 86/200\n",
      "9/9 [==============================] - 0s 13ms/step - loss: 20.2688 - mse: 20.2688 - mae: 3.2784 - val_loss: 19.5715 - val_mse: 19.5715 - val_mae: 2.7501\n",
      "Epoch 87/200\n",
      "9/9 [==============================] - 0s 14ms/step - loss: 19.6571 - mse: 19.6571 - mae: 3.2831 - val_loss: 18.5532 - val_mse: 18.5532 - val_mae: 2.7028\n",
      "Epoch 88/200\n",
      "9/9 [==============================] - 0s 13ms/step - loss: 19.9709 - mse: 19.9709 - mae: 3.3763 - val_loss: 18.1976 - val_mse: 18.1976 - val_mae: 2.6889\n",
      "Epoch 89/200\n",
      "9/9 [==============================] - 0s 13ms/step - loss: 21.0305 - mse: 21.0305 - mae: 3.4154 - val_loss: 20.2789 - val_mse: 20.2789 - val_mae: 2.8336\n",
      "Epoch 90/200\n",
      "9/9 [==============================] - 0s 12ms/step - loss: 22.6506 - mse: 22.6506 - mae: 3.4934 - val_loss: 19.2859 - val_mse: 19.2859 - val_mae: 2.7497\n",
      "Epoch 91/200\n",
      "9/9 [==============================] - 0s 13ms/step - loss: 15.7038 - mse: 15.7038 - mae: 2.9352 - val_loss: 19.1079 - val_mse: 19.1079 - val_mae: 2.7123\n",
      "Epoch 92/200\n",
      "9/9 [==============================] - 0s 13ms/step - loss: 19.6810 - mse: 19.6810 - mae: 3.1873 - val_loss: 23.6892 - val_mse: 23.6892 - val_mae: 3.0150\n",
      "Epoch 93/200\n",
      "9/9 [==============================] - 0s 14ms/step - loss: 17.4472 - mse: 17.4472 - mae: 3.1652 - val_loss: 17.9825 - val_mse: 17.9825 - val_mae: 2.7958\n",
      "Epoch 94/200\n",
      "9/9 [==============================] - 0s 13ms/step - loss: 23.8202 - mse: 23.8202 - mae: 3.5644 - val_loss: 20.8181 - val_mse: 20.8181 - val_mae: 2.8303\n",
      "Epoch 95/200\n",
      "9/9 [==============================] - 0s 14ms/step - loss: 20.3523 - mse: 20.3523 - mae: 3.3530 - val_loss: 17.1606 - val_mse: 17.1606 - val_mae: 2.5871\n",
      "Epoch 96/200\n",
      "9/9 [==============================] - 0s 14ms/step - loss: 18.3381 - mse: 18.3381 - mae: 3.1930 - val_loss: 17.2589 - val_mse: 17.2589 - val_mae: 2.6111\n",
      "Epoch 97/200\n",
      "9/9 [==============================] - 0s 14ms/step - loss: 19.8738 - mse: 19.8738 - mae: 3.3093 - val_loss: 18.1357 - val_mse: 18.1357 - val_mae: 2.6585\n",
      "Epoch 98/200\n",
      "9/9 [==============================] - 0s 14ms/step - loss: 15.4886 - mse: 15.4886 - mae: 3.0877 - val_loss: 17.6273 - val_mse: 17.6273 - val_mae: 2.6167\n",
      "Epoch 99/200\n"
     ]
    },
    {
     "name": "stdout",
     "output_type": "stream",
     "text": [
      "9/9 [==============================] - 0s 14ms/step - loss: 20.9099 - mse: 20.9099 - mae: 3.3895 - val_loss: 17.1227 - val_mse: 17.1227 - val_mae: 2.5821\n",
      "Epoch 100/200\n",
      "9/9 [==============================] - 0s 15ms/step - loss: 18.0941 - mse: 18.0941 - mae: 3.2064 - val_loss: 20.5357 - val_mse: 20.5357 - val_mae: 2.8044\n",
      "Epoch 101/200\n",
      "9/9 [==============================] - 0s 13ms/step - loss: 23.2145 - mse: 23.2145 - mae: 3.5121 - val_loss: 16.8521 - val_mse: 16.8521 - val_mae: 2.6972\n",
      "Epoch 102/200\n",
      "9/9 [==============================] - 0s 14ms/step - loss: 20.6467 - mse: 20.6467 - mae: 3.4190 - val_loss: 18.9577 - val_mse: 18.9577 - val_mae: 2.6911\n",
      "Epoch 103/200\n",
      "9/9 [==============================] - 0s 13ms/step - loss: 20.2973 - mse: 20.2973 - mae: 3.2301 - val_loss: 17.0190 - val_mse: 17.0190 - val_mae: 2.5734\n",
      "Epoch 104/200\n",
      "9/9 [==============================] - 0s 14ms/step - loss: 16.6534 - mse: 16.6534 - mae: 3.1376 - val_loss: 18.8338 - val_mse: 18.8338 - val_mae: 2.7011\n",
      "Epoch 105/200\n",
      "9/9 [==============================] - 0s 13ms/step - loss: 17.3755 - mse: 17.3755 - mae: 3.0816 - val_loss: 16.1001 - val_mse: 16.1001 - val_mae: 2.5781\n",
      "Epoch 106/200\n",
      "9/9 [==============================] - 0s 13ms/step - loss: 20.2085 - mse: 20.2085 - mae: 3.3199 - val_loss: 16.5127 - val_mse: 16.5127 - val_mae: 2.5778\n",
      "Epoch 107/200\n",
      "9/9 [==============================] - 0s 13ms/step - loss: 20.0207 - mse: 20.0207 - mae: 3.3451 - val_loss: 15.7551 - val_mse: 15.7551 - val_mae: 2.6001\n",
      "Epoch 108/200\n",
      "9/9 [==============================] - 0s 14ms/step - loss: 20.7037 - mse: 20.7037 - mae: 3.4346 - val_loss: 18.0122 - val_mse: 18.0122 - val_mae: 2.6870\n",
      "Epoch 109/200\n",
      "9/9 [==============================] - 0s 14ms/step - loss: 15.8559 - mse: 15.8559 - mae: 3.0428 - val_loss: 16.4411 - val_mse: 16.4411 - val_mae: 2.5193\n",
      "Epoch 110/200\n",
      "9/9 [==============================] - 0s 14ms/step - loss: 19.8034 - mse: 19.8034 - mae: 3.2125 - val_loss: 17.1870 - val_mse: 17.1870 - val_mae: 2.5737\n",
      "Epoch 111/200\n",
      "9/9 [==============================] - 0s 15ms/step - loss: 20.8938 - mse: 20.8938 - mae: 3.3352 - val_loss: 18.3814 - val_mse: 18.3814 - val_mae: 2.7008\n",
      "Epoch 112/200\n",
      "9/9 [==============================] - 0s 15ms/step - loss: 20.3464 - mse: 20.3464 - mae: 3.3305 - val_loss: 15.5138 - val_mse: 15.5138 - val_mae: 2.4949\n",
      "Epoch 113/200\n",
      "9/9 [==============================] - 0s 15ms/step - loss: 20.4489 - mse: 20.4489 - mae: 3.3244 - val_loss: 16.4246 - val_mse: 16.4246 - val_mae: 2.5284\n",
      "Epoch 114/200\n",
      "9/9 [==============================] - 0s 14ms/step - loss: 20.9893 - mse: 20.9893 - mae: 3.3883 - val_loss: 15.7523 - val_mse: 15.7523 - val_mae: 2.5121\n",
      "Epoch 115/200\n",
      "9/9 [==============================] - 0s 16ms/step - loss: 18.6513 - mse: 18.6513 - mae: 3.1998 - val_loss: 16.9629 - val_mse: 16.9629 - val_mae: 2.6114\n",
      "Epoch 116/200\n",
      "9/9 [==============================] - 0s 15ms/step - loss: 17.6662 - mse: 17.6662 - mae: 3.2703 - val_loss: 16.7621 - val_mse: 16.7621 - val_mae: 2.5895\n",
      "Epoch 117/200\n",
      "9/9 [==============================] - 0s 14ms/step - loss: 18.8930 - mse: 18.8930 - mae: 3.1389 - val_loss: 16.9744 - val_mse: 16.9744 - val_mae: 2.5929\n",
      "Epoch 118/200\n",
      "9/9 [==============================] - 0s 13ms/step - loss: 15.3127 - mse: 15.3127 - mae: 2.9633 - val_loss: 18.2924 - val_mse: 18.2924 - val_mae: 2.6224\n",
      "Epoch 119/200\n",
      "9/9 [==============================] - 0s 13ms/step - loss: 16.0583 - mse: 16.0583 - mae: 2.9286 - val_loss: 17.0157 - val_mse: 17.0157 - val_mae: 2.5635\n",
      "Epoch 120/200\n",
      "9/9 [==============================] - 0s 14ms/step - loss: 16.5015 - mse: 16.5015 - mae: 3.0911 - val_loss: 16.5428 - val_mse: 16.5428 - val_mae: 2.6053\n",
      "Epoch 121/200\n",
      "9/9 [==============================] - 0s 13ms/step - loss: 18.3111 - mse: 18.3111 - mae: 3.2124 - val_loss: 15.5241 - val_mse: 15.5241 - val_mae: 2.4823\n",
      "Epoch 122/200\n",
      "9/9 [==============================] - 0s 13ms/step - loss: 17.5683 - mse: 17.5683 - mae: 3.1200 - val_loss: 17.0002 - val_mse: 17.0002 - val_mae: 2.5300\n",
      "Epoch 123/200\n",
      "9/9 [==============================] - 0s 12ms/step - loss: 21.7149 - mse: 21.7149 - mae: 3.3781 - val_loss: 16.2133 - val_mse: 16.2133 - val_mae: 2.5100\n",
      "Epoch 124/200\n",
      "9/9 [==============================] - 0s 14ms/step - loss: 16.0029 - mse: 16.0029 - mae: 3.0513 - val_loss: 16.7948 - val_mse: 16.7948 - val_mae: 2.5539\n",
      "Epoch 125/200\n",
      "9/9 [==============================] - 0s 14ms/step - loss: 17.4929 - mse: 17.4929 - mae: 3.1300 - val_loss: 17.2329 - val_mse: 17.2329 - val_mae: 2.6206\n",
      "Epoch 126/200\n",
      "9/9 [==============================] - 0s 13ms/step - loss: 16.3460 - mse: 16.3460 - mae: 3.1714 - val_loss: 15.5252 - val_mse: 15.5252 - val_mae: 2.4746\n",
      "Epoch 127/200\n",
      "9/9 [==============================] - 0s 13ms/step - loss: 18.7632 - mse: 18.7632 - mae: 3.1469 - val_loss: 16.3110 - val_mse: 16.3110 - val_mae: 2.4900\n",
      "Epoch 128/200\n",
      "9/9 [==============================] - 0s 14ms/step - loss: 17.1351 - mse: 17.1351 - mae: 3.2274 - val_loss: 16.4248 - val_mse: 16.4248 - val_mae: 2.5009\n",
      "Epoch 129/200\n",
      "9/9 [==============================] - 0s 14ms/step - loss: 16.1464 - mse: 16.1464 - mae: 2.9139 - val_loss: 18.0865 - val_mse: 18.0865 - val_mae: 2.7012\n",
      "Epoch 130/200\n",
      "9/9 [==============================] - 0s 13ms/step - loss: 15.8912 - mse: 15.8912 - mae: 3.1715 - val_loss: 15.4364 - val_mse: 15.4364 - val_mae: 2.5254\n",
      "Epoch 131/200\n",
      "9/9 [==============================] - 0s 13ms/step - loss: 18.3070 - mse: 18.3070 - mae: 3.1960 - val_loss: 16.5665 - val_mse: 16.5665 - val_mae: 2.5524\n",
      "Epoch 132/200\n",
      "9/9 [==============================] - 0s 15ms/step - loss: 17.7447 - mse: 17.7447 - mae: 3.1945 - val_loss: 14.6041 - val_mse: 14.6041 - val_mae: 2.4386\n",
      "Epoch 133/200\n",
      "9/9 [==============================] - 0s 13ms/step - loss: 16.8651 - mse: 16.8651 - mae: 3.0730 - val_loss: 14.7573 - val_mse: 14.7573 - val_mae: 2.4897\n",
      "Epoch 134/200\n",
      "9/9 [==============================] - 0s 14ms/step - loss: 17.7098 - mse: 17.7098 - mae: 3.2199 - val_loss: 14.6920 - val_mse: 14.6920 - val_mae: 2.4333\n",
      "Epoch 135/200\n",
      "9/9 [==============================] - 0s 14ms/step - loss: 18.0247 - mse: 18.0247 - mae: 3.1848 - val_loss: 17.6891 - val_mse: 17.6891 - val_mae: 2.6465\n",
      "Epoch 136/200\n",
      "9/9 [==============================] - 0s 13ms/step - loss: 17.2710 - mse: 17.2710 - mae: 3.1100 - val_loss: 15.7161 - val_mse: 15.7161 - val_mae: 2.4421\n",
      "Epoch 137/200\n",
      "9/9 [==============================] - 0s 15ms/step - loss: 16.2647 - mse: 16.2647 - mae: 2.9056 - val_loss: 16.0108 - val_mse: 16.0108 - val_mae: 2.5220\n",
      "Epoch 138/200\n",
      "9/9 [==============================] - 0s 16ms/step - loss: 16.1698 - mse: 16.1698 - mae: 2.9353 - val_loss: 14.8308 - val_mse: 14.8308 - val_mae: 2.5054\n",
      "Epoch 139/200\n",
      "9/9 [==============================] - 0s 15ms/step - loss: 14.5688 - mse: 14.5688 - mae: 2.9388 - val_loss: 15.4821 - val_mse: 15.4821 - val_mae: 2.5015\n",
      "Epoch 140/200\n",
      "9/9 [==============================] - 0s 19ms/step - loss: 16.2698 - mse: 16.2698 - mae: 3.0108 - val_loss: 17.0567 - val_mse: 17.0567 - val_mae: 2.5658\n",
      "Epoch 141/200\n",
      "9/9 [==============================] - 0s 16ms/step - loss: 18.8581 - mse: 18.8581 - mae: 3.2368 - val_loss: 15.4203 - val_mse: 15.4203 - val_mae: 2.6574\n",
      "Epoch 142/200\n",
      "9/9 [==============================] - 0s 17ms/step - loss: 13.5768 - mse: 13.5768 - mae: 2.8596 - val_loss: 19.4902 - val_mse: 19.4902 - val_mae: 2.7944\n",
      "Epoch 143/200\n",
      "9/9 [==============================] - 0s 14ms/step - loss: 16.5830 - mse: 16.5830 - mae: 3.0749 - val_loss: 15.7097 - val_mse: 15.7097 - val_mae: 2.4433\n",
      "Epoch 144/200\n",
      "9/9 [==============================] - 0s 13ms/step - loss: 16.6892 - mse: 16.6892 - mae: 3.0725 - val_loss: 15.4484 - val_mse: 15.4484 - val_mae: 2.4640\n",
      "Epoch 145/200\n",
      "9/9 [==============================] - 0s 14ms/step - loss: 18.4644 - mse: 18.4644 - mae: 3.2557 - val_loss: 20.9148 - val_mse: 20.9148 - val_mae: 2.9318\n",
      "Epoch 146/200\n",
      "9/9 [==============================] - 0s 13ms/step - loss: 16.1240 - mse: 16.1240 - mae: 3.0923 - val_loss: 14.6872 - val_mse: 14.6872 - val_mae: 2.5023\n",
      "Epoch 147/200\n",
      "9/9 [==============================] - 0s 14ms/step - loss: 17.2115 - mse: 17.2115 - mae: 3.1053 - val_loss: 19.1236 - val_mse: 19.1236 - val_mae: 2.8921\n"
     ]
    },
    {
     "name": "stdout",
     "output_type": "stream",
     "text": [
      "Epoch 148/200\n",
      "9/9 [==============================] - 0s 13ms/step - loss: 18.5733 - mse: 18.5733 - mae: 3.2972 - val_loss: 14.9084 - val_mse: 14.9084 - val_mae: 2.4824\n",
      "Epoch 149/200\n",
      "9/9 [==============================] - 0s 14ms/step - loss: 16.6973 - mse: 16.6973 - mae: 3.0660 - val_loss: 17.4988 - val_mse: 17.4988 - val_mae: 2.6769\n",
      "Epoch 150/200\n",
      "9/9 [==============================] - 0s 14ms/step - loss: 19.2930 - mse: 19.2930 - mae: 3.2355 - val_loss: 15.8223 - val_mse: 15.8223 - val_mae: 2.5420\n",
      "Epoch 151/200\n",
      "9/9 [==============================] - 0s 13ms/step - loss: 18.3389 - mse: 18.3389 - mae: 3.3248 - val_loss: 18.0216 - val_mse: 18.0216 - val_mae: 2.6830\n",
      "Epoch 152/200\n",
      "9/9 [==============================] - 0s 16ms/step - loss: 16.4026 - mse: 16.4026 - mae: 3.1702 - val_loss: 15.1442 - val_mse: 15.1442 - val_mae: 2.4477\n",
      "Epoch 153/200\n",
      "9/9 [==============================] - 0s 15ms/step - loss: 17.4563 - mse: 17.4563 - mae: 3.1745 - val_loss: 17.4282 - val_mse: 17.4282 - val_mae: 2.5104\n",
      "Epoch 154/200\n",
      "9/9 [==============================] - 0s 14ms/step - loss: 17.5785 - mse: 17.5785 - mae: 3.1625 - val_loss: 14.8562 - val_mse: 14.8562 - val_mae: 2.4060\n",
      "Epoch 155/200\n",
      "9/9 [==============================] - 0s 13ms/step - loss: 15.5276 - mse: 15.5276 - mae: 2.9964 - val_loss: 15.3412 - val_mse: 15.3412 - val_mae: 2.5306\n",
      "Epoch 156/200\n",
      "9/9 [==============================] - 0s 13ms/step - loss: 16.3798 - mse: 16.3798 - mae: 2.9309 - val_loss: 16.9378 - val_mse: 16.9378 - val_mae: 2.7276\n",
      "Epoch 157/200\n",
      "9/9 [==============================] - 0s 15ms/step - loss: 17.1728 - mse: 17.1728 - mae: 3.2138 - val_loss: 14.4590 - val_mse: 14.4590 - val_mae: 2.4519\n",
      "Epoch 158/200\n",
      "9/9 [==============================] - 0s 13ms/step - loss: 16.6091 - mse: 16.6091 - mae: 3.0973 - val_loss: 14.9897 - val_mse: 14.9897 - val_mae: 2.4722\n",
      "Epoch 159/200\n",
      "9/9 [==============================] - 0s 12ms/step - loss: 18.8354 - mse: 18.8354 - mae: 3.2052 - val_loss: 15.3212 - val_mse: 15.3212 - val_mae: 2.5154\n",
      "Epoch 160/200\n",
      "9/9 [==============================] - 0s 13ms/step - loss: 15.7338 - mse: 15.7338 - mae: 3.0404 - val_loss: 15.1782 - val_mse: 15.1782 - val_mae: 2.4207\n",
      "Epoch 161/200\n",
      "9/9 [==============================] - 0s 13ms/step - loss: 16.2506 - mse: 16.2506 - mae: 3.1221 - val_loss: 14.9975 - val_mse: 14.9975 - val_mae: 2.4765\n",
      "Epoch 162/200\n",
      "9/9 [==============================] - 0s 13ms/step - loss: 16.3670 - mse: 16.3670 - mae: 2.9905 - val_loss: 15.0018 - val_mse: 15.0018 - val_mae: 2.4602\n",
      "Epoch 163/200\n",
      "9/9 [==============================] - 0s 14ms/step - loss: 14.8095 - mse: 14.8095 - mae: 2.9079 - val_loss: 14.8581 - val_mse: 14.8581 - val_mae: 2.4980\n",
      "Epoch 164/200\n",
      "9/9 [==============================] - 0s 13ms/step - loss: 15.8993 - mse: 15.8993 - mae: 3.0146 - val_loss: 18.0553 - val_mse: 18.0553 - val_mae: 2.7338\n",
      "Epoch 165/200\n",
      "9/9 [==============================] - 0s 14ms/step - loss: 14.3287 - mse: 14.3287 - mae: 2.7698 - val_loss: 14.9906 - val_mse: 14.9906 - val_mae: 2.5330\n",
      "Epoch 166/200\n",
      "9/9 [==============================] - 0s 16ms/step - loss: 16.0118 - mse: 16.0118 - mae: 2.9901 - val_loss: 18.2306 - val_mse: 18.2306 - val_mae: 2.7304\n",
      "Epoch 167/200\n",
      "9/9 [==============================] - 0s 16ms/step - loss: 14.8523 - mse: 14.8523 - mae: 2.9189 - val_loss: 15.7011 - val_mse: 15.7011 - val_mae: 2.5626\n",
      "Epoch 168/200\n",
      "9/9 [==============================] - 0s 17ms/step - loss: 16.6047 - mse: 16.6047 - mae: 3.1365 - val_loss: 16.2507 - val_mse: 16.2507 - val_mae: 2.5864\n",
      "Epoch 169/200\n",
      "9/9 [==============================] - 0s 14ms/step - loss: 15.3886 - mse: 15.3886 - mae: 2.9595 - val_loss: 15.3388 - val_mse: 15.3388 - val_mae: 2.5348\n",
      "Epoch 170/200\n",
      "9/9 [==============================] - 0s 13ms/step - loss: 14.1260 - mse: 14.1260 - mae: 2.8951 - val_loss: 17.3928 - val_mse: 17.3928 - val_mae: 2.6838\n",
      "Epoch 171/200\n",
      "9/9 [==============================] - 0s 15ms/step - loss: 15.0897 - mse: 15.0897 - mae: 2.9510 - val_loss: 15.4211 - val_mse: 15.4211 - val_mae: 2.4952\n",
      "Epoch 172/200\n",
      "9/9 [==============================] - 0s 16ms/step - loss: 16.7142 - mse: 16.7142 - mae: 3.1307 - val_loss: 15.2740 - val_mse: 15.2740 - val_mae: 2.4834\n",
      "Epoch 173/200\n",
      "9/9 [==============================] - 0s 15ms/step - loss: 16.8693 - mse: 16.8693 - mae: 3.1567 - val_loss: 15.0953 - val_mse: 15.0953 - val_mae: 2.4422\n",
      "Epoch 174/200\n",
      "9/9 [==============================] - 0s 16ms/step - loss: 15.6439 - mse: 15.6439 - mae: 2.9670 - val_loss: 16.2194 - val_mse: 16.2194 - val_mae: 2.5014\n",
      "Epoch 175/200\n",
      "9/9 [==============================] - 0s 13ms/step - loss: 14.4938 - mse: 14.4938 - mae: 2.9017 - val_loss: 16.5784 - val_mse: 16.5784 - val_mae: 2.5791\n",
      "Epoch 176/200\n",
      "9/9 [==============================] - 0s 13ms/step - loss: 15.3570 - mse: 15.3570 - mae: 2.9405 - val_loss: 16.3121 - val_mse: 16.3121 - val_mae: 2.5759\n",
      "Epoch 177/200\n",
      "9/9 [==============================] - 0s 13ms/step - loss: 17.1211 - mse: 17.1211 - mae: 3.1380 - val_loss: 16.8544 - val_mse: 16.8544 - val_mae: 2.5382\n",
      "Epoch 178/200\n",
      "9/9 [==============================] - 0s 13ms/step - loss: 15.1815 - mse: 15.1815 - mae: 3.0570 - val_loss: 16.0388 - val_mse: 16.0388 - val_mae: 2.4606\n",
      "Epoch 179/200\n",
      "9/9 [==============================] - 0s 14ms/step - loss: 17.1830 - mse: 17.1830 - mae: 3.0194 - val_loss: 19.6977 - val_mse: 19.6977 - val_mae: 2.8072\n",
      "Epoch 180/200\n",
      "9/9 [==============================] - 0s 12ms/step - loss: 17.7444 - mse: 17.7444 - mae: 3.2120 - val_loss: 15.4703 - val_mse: 15.4703 - val_mae: 2.4495\n",
      "Epoch 181/200\n",
      "9/9 [==============================] - 0s 13ms/step - loss: 13.4929 - mse: 13.4929 - mae: 2.8285 - val_loss: 16.7039 - val_mse: 16.7039 - val_mae: 2.5103\n",
      "Epoch 182/200\n",
      "9/9 [==============================] - 0s 12ms/step - loss: 15.3939 - mse: 15.3939 - mae: 2.9211 - val_loss: 16.5620 - val_mse: 16.5620 - val_mae: 2.5532\n",
      "Epoch 183/200\n",
      "9/9 [==============================] - 0s 14ms/step - loss: 13.3720 - mse: 13.3720 - mae: 2.8058 - val_loss: 15.1397 - val_mse: 15.1397 - val_mae: 2.4973\n",
      "Epoch 184/200\n",
      "9/9 [==============================] - 0s 13ms/step - loss: 16.1661 - mse: 16.1661 - mae: 2.9436 - val_loss: 16.5935 - val_mse: 16.5935 - val_mae: 2.5759\n",
      "Epoch 185/200\n",
      "9/9 [==============================] - 0s 13ms/step - loss: 16.6692 - mse: 16.6692 - mae: 3.1627 - val_loss: 15.1030 - val_mse: 15.1030 - val_mae: 2.5031\n",
      "Epoch 186/200\n",
      "9/9 [==============================] - 0s 13ms/step - loss: 15.3257 - mse: 15.3257 - mae: 2.9364 - val_loss: 16.0524 - val_mse: 16.0524 - val_mae: 2.5393\n",
      "Epoch 187/200\n",
      "9/9 [==============================] - 0s 13ms/step - loss: 14.9557 - mse: 14.9557 - mae: 2.8929 - val_loss: 14.9723 - val_mse: 14.9723 - val_mae: 2.4900\n",
      "Epoch 188/200\n",
      "9/9 [==============================] - 0s 13ms/step - loss: 15.5348 - mse: 15.5348 - mae: 2.9233 - val_loss: 15.1445 - val_mse: 15.1445 - val_mae: 2.4718\n",
      "Epoch 189/200\n",
      "9/9 [==============================] - 0s 13ms/step - loss: 13.3251 - mse: 13.3251 - mae: 2.8227 - val_loss: 16.5491 - val_mse: 16.5491 - val_mae: 2.5641\n",
      "Epoch 190/200\n",
      "9/9 [==============================] - 0s 12ms/step - loss: 17.8341 - mse: 17.8341 - mae: 3.1133 - val_loss: 15.7222 - val_mse: 15.7222 - val_mae: 2.4573\n",
      "Epoch 191/200\n",
      "9/9 [==============================] - 0s 14ms/step - loss: 15.8542 - mse: 15.8542 - mae: 2.8696 - val_loss: 14.8157 - val_mse: 14.8157 - val_mae: 2.4246\n",
      "Epoch 192/200\n",
      "9/9 [==============================] - 0s 16ms/step - loss: 15.4594 - mse: 15.4594 - mae: 2.8074 - val_loss: 16.6125 - val_mse: 16.6125 - val_mae: 2.5641\n",
      "Epoch 193/200\n",
      "9/9 [==============================] - 0s 15ms/step - loss: 15.2231 - mse: 15.2231 - mae: 3.0024 - val_loss: 15.8514 - val_mse: 15.8514 - val_mae: 2.5299\n",
      "Epoch 194/200\n",
      "9/9 [==============================] - 0s 15ms/step - loss: 16.3700 - mse: 16.3700 - mae: 2.9736 - val_loss: 16.9400 - val_mse: 16.9400 - val_mae: 2.5979\n",
      "Epoch 195/200\n",
      "9/9 [==============================] - 0s 15ms/step - loss: 14.5605 - mse: 14.5605 - mae: 2.9380 - val_loss: 15.4469 - val_mse: 15.4469 - val_mae: 2.5127\n",
      "Epoch 196/200\n",
      "9/9 [==============================] - 0s 15ms/step - loss: 15.2773 - mse: 15.2773 - mae: 3.0173 - val_loss: 14.9869 - val_mse: 14.9869 - val_mae: 2.4758\n"
     ]
    },
    {
     "name": "stdout",
     "output_type": "stream",
     "text": [
      "Epoch 197/200\n",
      "9/9 [==============================] - 0s 15ms/step - loss: 15.0025 - mse: 15.0025 - mae: 2.9200 - val_loss: 14.6046 - val_mse: 14.6046 - val_mae: 2.5637\n",
      "Epoch 198/200\n",
      "9/9 [==============================] - 0s 13ms/step - loss: 13.9068 - mse: 13.9068 - mae: 2.8664 - val_loss: 16.0592 - val_mse: 16.0592 - val_mae: 2.5428\n",
      "Epoch 199/200\n",
      "9/9 [==============================] - 0s 13ms/step - loss: 15.2111 - mse: 15.2111 - mae: 2.8265 - val_loss: 14.5741 - val_mse: 14.5741 - val_mae: 2.3954\n",
      "Epoch 200/200\n",
      "9/9 [==============================] - 0s 12ms/step - loss: 15.1983 - mse: 15.1983 - mae: 2.9289 - val_loss: 14.8053 - val_mse: 14.8053 - val_mae: 2.4488\n"
     ]
    }
   ],
   "source": [
    "history = model.fit(X_train, y_train, validation_split=0.2, epochs=200)"
   ]
  },
  {
   "cell_type": "code",
   "execution_count": 76,
   "metadata": {
    "colab": {
     "base_uri": "https://localhost:8080/",
     "height": 448
    },
    "id": "DbiRnlsH53Ja",
    "outputId": "a689aa23-95fb-4854-e0f7-e7b8392c8b23"
   },
   "outputs": [
    {
     "data": {
      "text/plain": [
       "<matplotlib.legend.Legend at 0x1a0cd9279d0>"
      ]
     },
     "execution_count": 76,
     "metadata": {},
     "output_type": "execute_result"
    },
    {
     "data": {
      "image/png": "[encoded data removed]",
      "text/plain": [
       "<Figure size 432x288 with 1 Axes>"
      ]
     },
     "metadata": {
      "needs_background": "light"
     },
     "output_type": "display_data"
    }
   ],
   "source": [
    "import matplotlib.pyplot as plt\n",
    "\n",
    "#plot the loss and validation loss of the dataset\n",
    "plt.plot(history.history['mae'], label='mae')\n",
    "plt.plot(history.history['val_mae'], label='val_mae')\n",
    "\n",
    "plt.legend()"
   ]
  },
  {
   "cell_type": "code",
   "execution_count": 77,
   "metadata": {
    "colab": {
     "base_uri": "https://localhost:8080/"
    },
    "id": "9BnItrdX_HOj",
    "outputId": "7c88e691-c7d1-49f6-e001-3299a656f23c"
   },
   "outputs": [
    {
     "name": "stdout",
     "output_type": "stream",
     "text": [
      "Mean Squared Error :  17.483383178710938\n",
      "Mean Absolute Error :  2.634615898132324\n"
     ]
    }
   ],
   "source": [
    "scores = model.evaluate(X_test, y_test, verbose = 0)\n",
    "\n",
    "print('Mean Squared Error : ', scores[1])\n",
    "print('Mean Absolute Error : ', scores[2])"
   ]
  },
  {
   "cell_type": "code",
   "execution_count": 78,
   "metadata": {
    "colab": {
     "base_uri": "https://localhost:8080/"
    },
    "id": "gl7TJpx3_UPH",
    "outputId": "0ab73dab-7b21-4a5b-e6a3-c6a400e8721b"
   },
   "outputs": [
    {
     "name": "stdout",
     "output_type": "stream",
     "text": [
      "5/5 [==============================] - 0s 4ms/step\n"
     ]
    },
    {
     "data": {
      "text/plain": [
       "array([[16.136461 ],\n",
       "       [24.084326 ],\n",
       "       [19.39327  ],\n",
       "       [17.89187  ],\n",
       "       [42.66026  ],\n",
       "       [25.149817 ],\n",
       "       [31.321192 ],\n",
       "       [19.12264  ],\n",
       "       [14.838706 ],\n",
       "       [19.286545 ],\n",
       "       [26.180496 ],\n",
       "       [26.082094 ],\n",
       "       [18.624638 ],\n",
       "       [35.209824 ],\n",
       "       [20.628311 ],\n",
       "       [12.863294 ],\n",
       "       [19.89389  ],\n",
       "       [12.373683 ],\n",
       "       [11.033136 ],\n",
       "       [14.378315 ],\n",
       "       [ 7.191353 ],\n",
       "       [17.677755 ],\n",
       "       [20.054472 ],\n",
       "       [20.767496 ],\n",
       "       [18.79018  ],\n",
       "       [19.621616 ],\n",
       "       [17.577427 ],\n",
       "       [15.47442  ],\n",
       "       [20.679451 ],\n",
       "       [17.7958   ],\n",
       "       [12.677394 ],\n",
       "       [21.966513 ],\n",
       "       [33.439877 ],\n",
       "       [21.14894  ],\n",
       "       [16.47906  ],\n",
       "       [16.420748 ],\n",
       "       [31.919382 ],\n",
       "       [41.119736 ],\n",
       "       [21.765581 ],\n",
       "       [24.030098 ],\n",
       "       [39.08821  ],\n",
       "       [33.132484 ],\n",
       "       [15.870476 ],\n",
       "       [30.588154 ],\n",
       "       [30.087004 ],\n",
       "       [20.977102 ],\n",
       "       [45.676746 ],\n",
       "       [19.47095  ],\n",
       "       [18.764597 ],\n",
       "       [22.09611  ],\n",
       "       [32.912148 ],\n",
       "       [22.93439  ],\n",
       "       [14.85772  ],\n",
       "       [27.216272 ],\n",
       "       [13.458412 ],\n",
       "       [20.327137 ],\n",
       "       [22.767485 ],\n",
       "       [33.042397 ],\n",
       "       [17.0972   ],\n",
       "       [36.06199  ],\n",
       "       [16.175137 ],\n",
       "       [17.302372 ],\n",
       "       [28.662697 ],\n",
       "       [18.119751 ],\n",
       "       [43.725365 ],\n",
       "       [25.905191 ],\n",
       "       [55.42508  ],\n",
       "       [ 9.537892 ],\n",
       "       [19.076204 ],\n",
       "       [22.412477 ],\n",
       "       [22.56536  ],\n",
       "       [20.064217 ],\n",
       "       [22.507889 ],\n",
       "       [24.726475 ],\n",
       "       [18.671524 ],\n",
       "       [25.624796 ],\n",
       "       [16.61373  ],\n",
       "       [22.170416 ],\n",
       "       [10.006598 ],\n",
       "       [15.882604 ],\n",
       "       [21.121277 ],\n",
       "       [18.363705 ],\n",
       "       [26.888903 ],\n",
       "       [18.35996  ],\n",
       "       [27.2529   ],\n",
       "       [20.777555 ],\n",
       "       [29.67836  ],\n",
       "       [18.943855 ],\n",
       "       [21.987099 ],\n",
       "       [43.169342 ],\n",
       "       [31.617695 ],\n",
       "       [46.266483 ],\n",
       "       [18.750542 ],\n",
       "       [45.04101  ],\n",
       "       [20.333998 ],\n",
       "       [21.093245 ],\n",
       "       [23.07476  ],\n",
       "       [40.728065 ],\n",
       "       [16.101166 ],\n",
       "       [20.886618 ],\n",
       "       [ 9.732043 ],\n",
       "       [23.309479 ],\n",
       "       [31.678514 ],\n",
       "       [15.222026 ],\n",
       "       [24.389015 ],\n",
       "       [19.532927 ],\n",
       "       [38.55438  ],\n",
       "       [29.256231 ],\n",
       "       [39.196465 ],\n",
       "       [24.836672 ],\n",
       "       [26.115286 ],\n",
       "       [18.774408 ],\n",
       "       [17.722855 ],\n",
       "       [26.194885 ],\n",
       "       [33.384537 ],\n",
       "       [21.662807 ],\n",
       "       [52.641582 ],\n",
       "       [16.350489 ],\n",
       "       [10.855671 ],\n",
       "       [19.00686  ],\n",
       "       [20.222704 ],\n",
       "       [15.114887 ],\n",
       "       [25.443594 ],\n",
       "       [25.232162 ],\n",
       "       [19.283693 ],\n",
       "       [18.01988  ],\n",
       "       [40.27725  ],\n",
       "       [12.616271 ],\n",
       "       [15.355371 ],\n",
       "       [15.923559 ],\n",
       "       [48.284405 ],\n",
       "       [16.693506 ],\n",
       "       [53.256226 ],\n",
       "       [30.363781 ],\n",
       "       [34.97006  ],\n",
       "       [20.2538   ],\n",
       "       [10.990584 ],\n",
       "       [24.026468 ],\n",
       "       [20.27309  ],\n",
       "       [18.41926  ],\n",
       "       [14.940634 ],\n",
       "       [13.526109 ],\n",
       "       [20.198578 ],\n",
       "       [20.836554 ],\n",
       "       [ 9.1652355],\n",
       "       [20.093416 ],\n",
       "       [16.81551  ],\n",
       "       [15.028302 ],\n",
       "       [54.056313 ],\n",
       "       [19.832548 ],\n",
       "       [30.0322   ],\n",
       "       [16.96697  ]], dtype=float32)"
      ]
     },
     "execution_count": 78,
     "metadata": {},
     "output_type": "execute_result"
    }
   ],
   "source": [
    "Y_pred = model.predict(X_test)\n",
    "Y_pred"
   ]
  },
  {
   "cell_type": "code",
   "execution_count": 79,
   "metadata": {
    "colab": {
     "base_uri": "https://localhost:8080/"
    },
    "id": "KRu2uzRz_gVA",
    "outputId": "99ecdb91-a0ec-41f0-c3d0-e9fd43e5d8a2"
   },
   "outputs": [
    {
     "name": "stdout",
     "output_type": "stream",
     "text": [
      "r2 score:  0.8325668140381447\n"
     ]
    }
   ],
   "source": [
    "from sklearn.metrics import r2_score\n",
    "\n",
    "print('r2 score: ', r2_score(y_test,Y_pred))"
   ]
  },
  {
   "cell_type": "code",
   "execution_count": 80,
   "metadata": {
    "colab": {
     "base_uri": "https://localhost:8080/",
     "height": 492
    },
    "id": "XMEwbUk3_rkK",
    "outputId": "86891f95-00ce-4ef8-d53c-5b46a6be70b0"
   },
   "outputs": [
    {
     "name": "stdout",
     "output_type": "stream",
     "text": [
      "5/5 [==============================] - 0s 4ms/step\n"
     ]
    },
    {
     "data": {
      "text/plain": [
       "[]"
      ]
     },
     "execution_count": 80,
     "metadata": {},
     "output_type": "execute_result"
    },
    {
     "data": {
      "image/png": "[encoded data removed]",
      "text/plain": [
       "<Figure size 432x288 with 1 Axes>"
      ]
     },
     "metadata": {
      "needs_background": "light"
     },
     "output_type": "display_data"
    }
   ],
   "source": [
    "Y_pred = model.predict(X_test)\n",
    "\n",
    "a = plt.axes(aspect='equal')\n",
    "\n",
    "plt.xlabel('True values')\n",
    "plt.ylabel('Predicted values')\n",
    "plt.xlim([0, 50])\n",
    "plt.ylim([0, 50])\n",
    "plt.plot([0, 50], [0,50])\n",
    "plt.scatter(y_test,Y_pred)\n",
    "plt.plot()"
   ]
  },
  {
   "cell_type": "code",
   "execution_count": 81,
   "metadata": {
    "colab": {
     "base_uri": "https://localhost:8080/",
     "height": 448
    },
    "id": "y6-t3yucIJCg",
    "outputId": "410de0c9-4aae-43f8-ae0f-49aa128c3d3d"
   },
   "outputs": [
    {
     "data": {
      "text/plain": [
       "[<matplotlib.lines.Line2D at 0x1a0cd9b2730>]"
      ]
     },
     "execution_count": 81,
     "metadata": {},
     "output_type": "execute_result"
    },
    {
     "data": {
      "image/png": "[encoded data removed]",
      "text/plain": [
       "<Figure size 432x288 with 1 Axes>"
      ]
     },
     "metadata": {
      "needs_background": "light"
     },
     "output_type": "display_data"
    }
   ],
   "source": [
    "plt.plot(y_test)\n"
   ]
  },
  {
   "cell_type": "markdown",
   "metadata": {
    "id": "eT31HtxEXWag"
   },
   "source": [
    "Using ML MODEL lm for Linear Regression"
   ]
  },
  {
   "cell_type": "code",
   "execution_count": 85,
   "metadata": {
    "id": "O4v6tgapTszY"
   },
   "outputs": [],
   "source": [
    "from sklearn.linear_model import LinearRegression"
   ]
  },
  {
   "cell_type": "code",
   "execution_count": 86,
   "metadata": {
    "colab": {
     "base_uri": "https://localhost:8080/",
     "height": 75
    },
    "id": "zVTMNgNaTz8R",
    "outputId": "a1a7ebc2-b082-4aa3-ccde-0eaba58a5417"
   },
   "outputs": [
    {
     "data": {
      "text/html": [
       "<style>#sk-container-id-1 {color: black;background-color: white;}#sk-container-id-1 pre{padding: 0;}#sk-container-id-1 div.sk-toggleable {background-color: white;}#sk-container-id-1 label.sk-toggleable__label {cursor: pointer;display: block;width: 100%;margin-bottom: 0;padding: 0.3em;box-sizing: border-box;text-align: center;}#sk-container-id-1 label.sk-toggleable__label-arrow:before {content: \"▸\";float: left;margin-right: 0.25em;color: #696969;}#sk-container-id-1 label.sk-toggleable__label-arrow:hover:before {color: black;}#sk-container-id-1 div.sk-estimator:hover label.sk-toggleable__label-arrow:before {color: black;}#sk-container-id-1 div.sk-toggleable__content {max-height: 0;max-width: 0;overflow: hidden;text-align: left;background-color: #f0f8ff;}#sk-container-id-1 div.sk-toggleable__content pre {margin: 0.2em;color: black;border-radius: 0.25em;background-color: #f0f8ff;}#sk-container-id-1 input.sk-toggleable__control:checked~div.sk-toggleable__content {max-height: 200px;max-width: 100%;overflow: auto;}#sk-container-id-1 input.sk-toggleable__control:checked~label.sk-toggleable__label-arrow:before {content: \"▾\";}#sk-container-id-1 div.sk-estimator input.sk-toggleable__control:checked~label.sk-toggleable__label {background-color: #d4ebff;}#sk-container-id-1 div.sk-label input.sk-toggleable__control:checked~label.sk-toggleable__label {background-color: #d4ebff;}#sk-container-id-1 input.sk-hidden--visually {border: 0;clip: rect(1px 1px 1px 1px);clip: rect(1px, 1px, 1px, 1px);height: 1px;margin: -1px;overflow: hidden;padding: 0;position: absolute;width: 1px;}#sk-container-id-1 div.sk-estimator {font-family: monospace;background-color: #f0f8ff;border: 1px dotted black;border-radius: 0.25em;box-sizing: border-box;margin-bottom: 0.5em;}#sk-container-id-1 div.sk-estimator:hover {background-color: #d4ebff;}#sk-container-id-1 div.sk-parallel-item::after {content: \"\";width: 100%;border-bottom: 1px solid gray;flex-grow: 1;}#sk-container-id-1 div.sk-label:hover label.sk-toggleable__label {background-color: #d4ebff;}#sk-container-id-1 div.sk-serial::before {content: \"\";position: absolute;border-left: 1px solid gray;box-sizing: border-box;top: 0;bottom: 0;left: 50%;z-index: 0;}#sk-container-id-1 div.sk-serial {display: flex;flex-direction: column;align-items: center;background-color: white;padding-right: 0.2em;padding-left: 0.2em;position: relative;}#sk-container-id-1 div.sk-item {position: relative;z-index: 1;}#sk-container-id-1 div.sk-parallel {display: flex;align-items: stretch;justify-content: center;background-color: white;position: relative;}#sk-container-id-1 div.sk-item::before, #sk-container-id-1 div.sk-parallel-item::before {content: \"\";position: absolute;border-left: 1px solid gray;box-sizing: border-box;top: 0;bottom: 0;left: 50%;z-index: -1;}#sk-container-id-1 div.sk-parallel-item {display: flex;flex-direction: column;z-index: 1;position: relative;background-color: white;}#sk-container-id-1 div.sk-parallel-item:first-child::after {align-self: flex-end;width: 50%;}#sk-container-id-1 div.sk-parallel-item:last-child::after {align-self: flex-start;width: 50%;}#sk-container-id-1 div.sk-parallel-item:only-child::after {width: 0;}#sk-container-id-1 div.sk-dashed-wrapped {border: 1px dashed gray;margin: 0 0.4em 0.5em 0.4em;box-sizing: border-box;padding-bottom: 0.4em;background-color: white;}#sk-container-id-1 div.sk-label label {font-family: monospace;font-weight: bold;display: inline-block;line-height: 1.2em;}#sk-container-id-1 div.sk-label-container {text-align: center;}#sk-container-id-1 div.sk-container {/* jupyter's `normalize.less` sets `[hidden] { display: none; }` but bootstrap.min.css set `[hidden] { display: none !important; }` so we also need the `!important` here to be able to override the default hidden behavior on the sphinx rendered scikit-learn.org. See: https://github.com/scikit-learn/scikit-learn/issues/21755 */display: inline-block !important;position: relative;}#sk-container-id-1 div.sk-text-repr-fallback {display: none;}</style><div id=\"sk-container-id-1\" class=\"sk-top-container\"><div class=\"sk-text-repr-fallback\"><pre>LinearRegression()</pre><b>In a Jupyter environment, please rerun this cell to show the HTML representation or trust the notebook. <br />On GitHub, the HTML representation is unable to render, please try loading this page with nbviewer.org.</b></div><div class=\"sk-container\" hidden><div class=\"sk-item\"><div class=\"sk-estimator sk-toggleable\"><input class=\"sk-toggleable__control sk-hidden--visually\" id=\"sk-estimator-id-1\" type=\"checkbox\" checked><label for=\"sk-estimator-id-1\" class=\"sk-toggleable__label sk-toggleable__label-arrow\">LinearRegression</label><div class=\"sk-toggleable__content\"><pre>LinearRegression()</pre></div></div></div></div></div>"
      ],
      "text/plain": [
       "LinearRegression()"
      ]
     },
     "execution_count": 86,
     "metadata": {},
     "output_type": "execute_result"
    }
   ],
   "source": [
    "lm = LinearRegression()\n",
    "\n",
    "lm.fit(X_train, y_train)"
   ]
  },
  {
   "cell_type": "code",
   "execution_count": 87,
   "metadata": {
    "colab": {
     "base_uri": "https://localhost:8080/"
    },
    "id": "LPG4SRUjT6GT",
    "outputId": "6c3a6ed3-a4b1-4044-fbad-cf1fe3e1a5ef"
   },
   "outputs": [
    {
     "data": {
      "text/plain": [
       "27.380936280008477"
      ]
     },
     "execution_count": 87,
     "metadata": {},
     "output_type": "execute_result"
    }
   ],
   "source": [
    "# Value of y intercept\n",
    "lm.intercept_"
   ]
  },
  {
   "cell_type": "code",
   "execution_count": 88,
   "metadata": {
    "colab": {
     "base_uri": "https://localhost:8080/",
     "height": 457
    },
    "id": "x060Q6u-UALk",
    "outputId": "8f319df5-563c-4a7d-a787-d2d66dd1ad1f"
   },
   "outputs": [
    {
     "data": {
      "text/html": [
       "<div>\n",
       "<style scoped>\n",
       "    .dataframe tbody tr th:only-of-type {\n",
       "        vertical-align: middle;\n",
       "    }\n",
       "\n",
       "    .dataframe tbody tr th {\n",
       "        vertical-align: top;\n",
       "    }\n",
       "\n",
       "    .dataframe thead th {\n",
       "        text-align: right;\n",
       "    }\n",
       "</style>\n",
       "<table border=\"1\" class=\"dataframe\">\n",
       "  <thead>\n",
       "    <tr style=\"text-align: right;\">\n",
       "      <th></th>\n",
       "      <th>Attribute</th>\n",
       "      <th>Coefficients</th>\n",
       "    </tr>\n",
       "  </thead>\n",
       "  <tbody>\n",
       "    <tr>\n",
       "      <th>0</th>\n",
       "      <td>crim</td>\n",
       "      <td>-10.90502</td>\n",
       "    </tr>\n",
       "    <tr>\n",
       "      <th>1</th>\n",
       "      <td>zn</td>\n",
       "      <td>5.56777</td>\n",
       "    </tr>\n",
       "    <tr>\n",
       "      <th>2</th>\n",
       "      <td>indus</td>\n",
       "      <td>-0.238526</td>\n",
       "    </tr>\n",
       "    <tr>\n",
       "      <th>3</th>\n",
       "      <td>chas</td>\n",
       "      <td>4.693448</td>\n",
       "    </tr>\n",
       "    <tr>\n",
       "      <th>4</th>\n",
       "      <td>nox</td>\n",
       "      <td>-7.01579</td>\n",
       "    </tr>\n",
       "    <tr>\n",
       "      <th>5</th>\n",
       "      <td>rm</td>\n",
       "      <td>15.865749</td>\n",
       "    </tr>\n",
       "    <tr>\n",
       "      <th>6</th>\n",
       "      <td>age</td>\n",
       "      <td>-0.33478</td>\n",
       "    </tr>\n",
       "    <tr>\n",
       "      <th>7</th>\n",
       "      <td>dis</td>\n",
       "      <td>-17.068774</td>\n",
       "    </tr>\n",
       "    <tr>\n",
       "      <th>8</th>\n",
       "      <td>rad</td>\n",
       "      <td>7.503741</td>\n",
       "    </tr>\n",
       "    <tr>\n",
       "      <th>9</th>\n",
       "      <td>tax</td>\n",
       "      <td>-7.370872</td>\n",
       "    </tr>\n",
       "    <tr>\n",
       "      <th>10</th>\n",
       "      <td>ptratio</td>\n",
       "      <td>-7.550784</td>\n",
       "    </tr>\n",
       "    <tr>\n",
       "      <th>11</th>\n",
       "      <td>black</td>\n",
       "      <td>3.709485</td>\n",
       "    </tr>\n",
       "    <tr>\n",
       "      <th>12</th>\n",
       "      <td>lstat</td>\n",
       "      <td>-18.452583</td>\n",
       "    </tr>\n",
       "  </tbody>\n",
       "</table>\n",
       "</div>"
      ],
      "text/plain": [
       "   Attribute Coefficients\n",
       "0       crim    -10.90502\n",
       "1         zn      5.56777\n",
       "2      indus    -0.238526\n",
       "3       chas     4.693448\n",
       "4        nox     -7.01579\n",
       "5         rm    15.865749\n",
       "6        age     -0.33478\n",
       "7        dis   -17.068774\n",
       "8        rad     7.503741\n",
       "9        tax    -7.370872\n",
       "10   ptratio    -7.550784\n",
       "11     black     3.709485\n",
       "12     lstat   -18.452583"
      ]
     },
     "execution_count": 88,
     "metadata": {},
     "output_type": "execute_result"
    }
   ],
   "source": [
    "coeffcients = pd.DataFrame([X.columns,lm.coef_]).T\n",
    "coeffcients = coeffcients.rename(columns={0: 'Attribute', 1: 'Coefficients'})\n",
    "coeffcients"
   ]
  },
  {
   "cell_type": "code",
   "execution_count": 89,
   "metadata": {
    "id": "zA1yTe7wUEya"
   },
   "outputs": [],
   "source": [
    "# Model prediction on train data\n",
    "y_pred = lm.predict(X_train)"
   ]
  },
  {
   "cell_type": "code",
   "execution_count": 90,
   "metadata": {
    "colab": {
     "base_uri": "https://localhost:8080/"
    },
    "id": "fHH9VL5KU9f1",
    "outputId": "4f6c350d-2a68-42bd-d7f7-0fe77e96e45c"
   },
   "outputs": [
    {
     "name": "stdout",
     "output_type": "stream",
     "text": [
      "R^2: 0.7465991966746854\n",
      "Adjusted R^2: 0.736910342429894\n",
      "MAE: 3.0898610949711287\n",
      "MSE: 19.07368870346903\n",
      "RMSE: 4.367343437774162\n"
     ]
    }
   ],
   "source": [
    "# Model Evaluation\n",
    "print('R^2:',metrics.r2_score(y_train, y_pred))\n",
    "print('Adjusted R^2:',1 - (1-metrics.r2_score(y_train, y_pred))*(len(y_train)-1)/(len(y_train)-X_train.shape[1]-1))\n",
    "print('MAE:',metrics.mean_absolute_error(y_train, y_pred))\n",
    "print('MSE:',metrics.mean_squared_error(y_train, y_pred))\n",
    "print('RMSE:',np.sqrt(metrics.mean_squared_error(y_train, y_pred)))"
   ]
  },
  {
   "cell_type": "code",
   "execution_count": 91,
   "metadata": {
    "colab": {
     "base_uri": "https://localhost:8080/",
     "height": 472
    },
    "id": "46xup_YtVBRj",
    "outputId": "14c04aa1-e762-4d86-c702-0387137f8b16"
   },
   "outputs": [
    {
     "data": {
      "image/png": "[encoded data removed]",
      "text/plain": [
       "<Figure size 432x288 with 1 Axes>"
      ]
     },
     "metadata": {
      "needs_background": "light"
     },
     "output_type": "display_data"
    }
   ],
   "source": [
    "# Visualizing the differences between actual prices and predicted values\n",
    "plt.scatter(y_train, y_pred)\n",
    "plt.xlabel(\"Prices\")\n",
    "plt.ylabel(\"Predicted prices\")\n",
    "plt.title(\"Prices vs Predicted prices\")\n",
    "plt.show()"
   ]
  },
  {
   "cell_type": "code",
   "execution_count": 92,
   "metadata": {
    "colab": {
     "base_uri": "https://localhost:8080/",
     "height": 472
    },
    "id": "eqBz_IMIVFGP",
    "outputId": "a922028a-88e9-44cb-d6e8-c0850b5061d6"
   },
   "outputs": [
    {
     "data": {
      "image/png": "[encoded data removed]",
      "text/plain": [
       "<Figure size 432x288 with 1 Axes>"
      ]
     },
     "metadata": {
      "needs_background": "light"
     },
     "output_type": "display_data"
    }
   ],
   "source": [
    "# Checking residuals\n",
    "plt.scatter(y_pred,y_train-y_pred)\n",
    "plt.title(\"Predicted vs residuals\")\n",
    "plt.xlabel(\"Predicted\")\n",
    "plt.ylabel(\"Residuals\")\n",
    "plt.show()"
   ]
  },
  {
   "cell_type": "code",
   "execution_count": 93,
   "metadata": {
    "colab": {
     "base_uri": "https://localhost:8080/",
     "height": 675
    },
    "id": "61CvMhs9VIMP",
    "outputId": "f5c2b364-efb4-4c92-dd6e-5e0df520cbba"
   },
   "outputs": [
    {
     "name": "stderr",
     "output_type": "stream",
     "text": [
      "D:\\Anaconda\\lib\\site-packages\\seaborn\\distributions.py:2557: FutureWarning: `distplot` is a deprecated function and will be removed in a future version. Please adapt your code to use either `displot` (a figure-level function with similar flexibility) or `histplot` (an axes-level function for histograms).\n",
      "  warnings.warn(msg, FutureWarning)\n"
     ]
    },
    {
     "data": {
      "image/png": "[encoded data removed]",
      "text/plain": [
       "<Figure size 432x288 with 1 Axes>"
      ]
     },
     "metadata": {
      "needs_background": "light"
     },
     "output_type": "display_data"
    }
   ],
   "source": [
    "# Checking Normality of errors\n",
    "sns.distplot(y_train-y_pred)\n",
    "plt.title(\"Histogram of Residuals\")\n",
    "plt.xlabel(\"Residuals\")\n",
    "plt.ylabel(\"Frequency\")\n",
    "plt.show()"
   ]
  },
  {
   "cell_type": "code",
   "execution_count": 94,
   "metadata": {
    "id": "_iZSawITVNPo"
   },
   "outputs": [],
   "source": [
    "# Predicting Test data with the model\n",
    "y_test_pred = lm.predict(X_test)"
   ]
  },
  {
   "cell_type": "code",
   "execution_count": 95,
   "metadata": {
    "colab": {
     "base_uri": "https://localhost:8080/"
    },
    "id": "DAGGu9FDVQs_",
    "outputId": "54a8bf0d-c5a4-407b-ece7-289e48726b97"
   },
   "outputs": [
    {
     "name": "stdout",
     "output_type": "stream",
     "text": [
      "R^2: 0.7121818377409194\n",
      "Adjusted R^2: 0.6850685326005712\n",
      "MAE: 3.859005592370743\n",
      "MSE: 30.053993307124145\n",
      "RMSE: 5.482152251362976\n"
     ]
    }
   ],
   "source": [
    "# Model Evaluation\n",
    "acc_linreg = metrics.r2_score(y_test, y_test_pred)\n",
    "print('R^2:', acc_linreg)\n",
    "print('Adjusted R^2:',1 - (1-metrics.r2_score(y_test, y_test_pred))*(len(y_test)-1)/(len(y_test)-X_test.shape[1]-1))\n",
    "print('MAE:',metrics.mean_absolute_error(y_test, y_test_pred))\n",
    "print('MSE:',metrics.mean_squared_error(y_test, y_test_pred))\n",
    "print('RMSE:',np.sqrt(metrics.mean_squared_error(y_test, y_test_pred)))"
   ]
  },
  {
   "cell_type": "code",
   "execution_count": null,
   "metadata": {
    "colab": {
     "base_uri": "https://localhost:8080/",
     "height": 150
    },
    "id": "-E1PDwvlVIV9",
    "outputId": "e60c24c0-6cfa-443b-b53d-0a6f73336e16"
   },
   "outputs": [],
   "source": []
  },
  {
   "cell_type": "code",
   "execution_count": null,
   "metadata": {},
   "outputs": [],
   "source": []
  }
 ],
 "metadata": {
  "colab": {
   "provenance": []
  },
  "kernelspec": {
   "display_name": "Python 3",
   "language": "python",
   "name": "python3"
  },
  "language_info": {
   "codemirror_mode": {
    "name": "ipython",
    "version": 3
   },
   "file_extension": ".py",
   "mimetype": "text/x-python",
   "name": "python",
   "nbconvert_exporter": "python",
   "pygments_lexer": "ipython3",
   "version": "3.8.8"
  }
 },
 "nbformat": 4,
 "nbformat_minor": 1
}
